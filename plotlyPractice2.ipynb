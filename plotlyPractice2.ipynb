{
 "cells": [
  {
   "cell_type": "markdown",
   "id": "7a0033e6",
   "metadata": {},
   "source": [
    "## More about 2d graphs and labeling and hover effects"
   ]
  },
  {
   "cell_type": "code",
   "execution_count": 7,
   "id": "6bc66896",
   "metadata": {},
   "outputs": [],
   "source": [
    "## imports\n",
    "\n",
    "import numpy as np\n",
    "import pandas as pd\n",
    "from plotly.graph_objects import Figure, Scatter  # small, focused import\n",
    "import plotly.io as pio\n",
    "\n",
    "pio.renderers.default = \"notebook_connected\""
   ]
  },
  {
   "cell_type": "code",
   "execution_count": 8,
   "id": "96dbe590",
   "metadata": {},
   "outputs": [],
   "source": [
    "# 1) data\n",
    "x = np.linspace(-3, 3, 61)\n",
    "y = x**2"
   ]
  },
  {
   "cell_type": "code",
   "execution_count": 16,
   "id": "51fcdd7b",
   "metadata": {},
   "outputs": [],
   "source": [
    "# 2) per-point hover text (must be same length as x or y)\n",
    "hover_text = [f\"x = {xi:.2f}<br>y = {xi**2:.2f}<br>dy/dx={2*xi}\" for xi in x] # just means x=xi and y=yi\n",
    "# <br> makes a new line in the hover box."
   ]
  },
  {
   "cell_type": "code",
   "execution_count": 17,
   "id": "0eed13d0",
   "metadata": {},
   "outputs": [],
   "source": [
    "# 3) build the trace\n",
    "trace = Scatter(\n",
    "    x=x, y=y,\n",
    "    mode=\"lines+markers\",\n",
    "    name=\"y = x^2\",\n",
    "    text=hover_text,     # attaches hover labels\n",
    "    hoverinfo=\"text\",    # show only the 'text' we provided\n",
    ")"
   ]
  },
  {
   "cell_type": "code",
   "execution_count": 18,
   "id": "042823ad",
   "metadata": {},
   "outputs": [
    {
     "data": {
      "text/html": [
       "<div>            <script src=\"https://cdnjs.cloudflare.com/ajax/libs/mathjax/2.7.5/MathJax.js?config=TeX-AMS-MML_SVG\"></script><script type=\"text/javascript\">if (window.MathJax && window.MathJax.Hub && window.MathJax.Hub.Config) {window.MathJax.Hub.Config({SVG: {font: \"STIX-Web\"}});}</script>                <script type=\"text/javascript\">window.PlotlyConfig = {MathJaxConfig: 'local'};</script>\n",
       "        <script charset=\"utf-8\" src=\"https://cdn.plot.ly/plotly-3.1.0.min.js\" integrity=\"sha256-Ei4740bWZhaUTQuD6q9yQlgVCMPBz6CZWhevDYPv93A=\" crossorigin=\"anonymous\"></script>                <div id=\"f68e07d3-792a-4293-bff9-76a4ee204a81\" class=\"plotly-graph-div\" style=\"height:525px; width:100%;\"></div>            <script type=\"text/javascript\">                window.PLOTLYENV=window.PLOTLYENV || {};                                if (document.getElementById(\"f68e07d3-792a-4293-bff9-76a4ee204a81\")) {                    Plotly.newPlot(                        \"f68e07d3-792a-4293-bff9-76a4ee204a81\",                        [{\"hoverinfo\":\"text\",\"mode\":\"lines+markers\",\"name\":\"y = x^2\",\"text\":[\"x = -3.00\\u003cbr\\u003ey = 9.00\\u003cbr\\u003edy\\u002fdx=-6.0\",\"x = -2.90\\u003cbr\\u003ey = 8.41\\u003cbr\\u003edy\\u002fdx=-5.8\",\"x = -2.80\\u003cbr\\u003ey = 7.84\\u003cbr\\u003edy\\u002fdx=-5.6\",\"x = -2.70\\u003cbr\\u003ey = 7.29\\u003cbr\\u003edy\\u002fdx=-5.4\",\"x = -2.60\\u003cbr\\u003ey = 6.76\\u003cbr\\u003edy\\u002fdx=-5.2\",\"x = -2.50\\u003cbr\\u003ey = 6.25\\u003cbr\\u003edy\\u002fdx=-5.0\",\"x = -2.40\\u003cbr\\u003ey = 5.76\\u003cbr\\u003edy\\u002fdx=-4.8\",\"x = -2.30\\u003cbr\\u003ey = 5.29\\u003cbr\\u003edy\\u002fdx=-4.6\",\"x = -2.20\\u003cbr\\u003ey = 4.84\\u003cbr\\u003edy\\u002fdx=-4.4\",\"x = -2.10\\u003cbr\\u003ey = 4.41\\u003cbr\\u003edy\\u002fdx=-4.2\",\"x = -2.00\\u003cbr\\u003ey = 4.00\\u003cbr\\u003edy\\u002fdx=-4.0\",\"x = -1.90\\u003cbr\\u003ey = 3.61\\u003cbr\\u003edy\\u002fdx=-3.8\",\"x = -1.80\\u003cbr\\u003ey = 3.24\\u003cbr\\u003edy\\u002fdx=-3.5999999999999996\",\"x = -1.70\\u003cbr\\u003ey = 2.89\\u003cbr\\u003edy\\u002fdx=-3.4\",\"x = -1.60\\u003cbr\\u003ey = 2.56\\u003cbr\\u003edy\\u002fdx=-3.1999999999999997\",\"x = -1.50\\u003cbr\\u003ey = 2.25\\u003cbr\\u003edy\\u002fdx=-3.0\",\"x = -1.40\\u003cbr\\u003ey = 1.96\\u003cbr\\u003edy\\u002fdx=-2.8\",\"x = -1.30\\u003cbr\\u003ey = 1.69\\u003cbr\\u003edy\\u002fdx=-2.5999999999999996\",\"x = -1.20\\u003cbr\\u003ey = 1.44\\u003cbr\\u003edy\\u002fdx=-2.4\",\"x = -1.10\\u003cbr\\u003ey = 1.21\\u003cbr\\u003edy\\u002fdx=-2.1999999999999997\",\"x = -1.00\\u003cbr\\u003ey = 1.00\\u003cbr\\u003edy\\u002fdx=-2.0\",\"x = -0.90\\u003cbr\\u003ey = 0.81\\u003cbr\\u003edy\\u002fdx=-1.7999999999999998\",\"x = -0.80\\u003cbr\\u003ey = 0.64\\u003cbr\\u003edy\\u002fdx=-1.5999999999999996\",\"x = -0.70\\u003cbr\\u003ey = 0.49\\u003cbr\\u003edy\\u002fdx=-1.3999999999999995\",\"x = -0.60\\u003cbr\\u003ey = 0.36\\u003cbr\\u003edy\\u002fdx=-1.1999999999999993\",\"x = -0.50\\u003cbr\\u003ey = 0.25\\u003cbr\\u003edy\\u002fdx=-1.0\",\"x = -0.40\\u003cbr\\u003ey = 0.16\\u003cbr\\u003edy\\u002fdx=-0.7999999999999998\",\"x = -0.30\\u003cbr\\u003ey = 0.09\\u003cbr\\u003edy\\u002fdx=-0.5999999999999996\",\"x = -0.20\\u003cbr\\u003ey = 0.04\\u003cbr\\u003edy\\u002fdx=-0.39999999999999947\",\"x = -0.10\\u003cbr\\u003ey = 0.01\\u003cbr\\u003edy\\u002fdx=-0.1999999999999993\",\"x = 0.00\\u003cbr\\u003ey = 0.00\\u003cbr\\u003edy\\u002fdx=0.0\",\"x = 0.10\\u003cbr\\u003ey = 0.01\\u003cbr\\u003edy\\u002fdx=0.20000000000000018\",\"x = 0.20\\u003cbr\\u003ey = 0.04\\u003cbr\\u003edy\\u002fdx=0.40000000000000036\",\"x = 0.30\\u003cbr\\u003ey = 0.09\\u003cbr\\u003edy\\u002fdx=0.6000000000000005\",\"x = 0.40\\u003cbr\\u003ey = 0.16\\u003cbr\\u003edy\\u002fdx=0.8000000000000007\",\"x = 0.50\\u003cbr\\u003ey = 0.25\\u003cbr\\u003edy\\u002fdx=1.0\",\"x = 0.60\\u003cbr\\u003ey = 0.36\\u003cbr\\u003edy\\u002fdx=1.2000000000000002\",\"x = 0.70\\u003cbr\\u003ey = 0.49\\u003cbr\\u003edy\\u002fdx=1.4000000000000004\",\"x = 0.80\\u003cbr\\u003ey = 0.64\\u003cbr\\u003edy\\u002fdx=1.6000000000000005\",\"x = 0.90\\u003cbr\\u003ey = 0.81\\u003cbr\\u003edy\\u002fdx=1.8000000000000007\",\"x = 1.00\\u003cbr\\u003ey = 1.00\\u003cbr\\u003edy\\u002fdx=2.0\",\"x = 1.10\\u003cbr\\u003ey = 1.21\\u003cbr\\u003edy\\u002fdx=2.200000000000001\",\"x = 1.20\\u003cbr\\u003ey = 1.44\\u003cbr\\u003edy\\u002fdx=2.4000000000000004\",\"x = 1.30\\u003cbr\\u003ey = 1.69\\u003cbr\\u003edy\\u002fdx=2.5999999999999996\",\"x = 1.40\\u003cbr\\u003ey = 1.96\\u003cbr\\u003edy\\u002fdx=2.8000000000000007\",\"x = 1.50\\u003cbr\\u003ey = 2.25\\u003cbr\\u003edy\\u002fdx=3.0\",\"x = 1.60\\u003cbr\\u003ey = 2.56\\u003cbr\\u003edy\\u002fdx=3.200000000000001\",\"x = 1.70\\u003cbr\\u003ey = 2.89\\u003cbr\\u003edy\\u002fdx=3.4000000000000004\",\"x = 1.80\\u003cbr\\u003ey = 3.24\\u003cbr\\u003edy\\u002fdx=3.6000000000000014\",\"x = 1.90\\u003cbr\\u003ey = 3.61\\u003cbr\\u003edy\\u002fdx=3.8000000000000007\",\"x = 2.00\\u003cbr\\u003ey = 4.00\\u003cbr\\u003edy\\u002fdx=4.0\",\"x = 2.10\\u003cbr\\u003ey = 4.41\\u003cbr\\u003edy\\u002fdx=4.200000000000001\",\"x = 2.20\\u003cbr\\u003ey = 4.84\\u003cbr\\u003edy\\u002fdx=4.4\",\"x = 2.30\\u003cbr\\u003ey = 5.29\\u003cbr\\u003edy\\u002fdx=4.600000000000001\",\"x = 2.40\\u003cbr\\u003ey = 5.76\\u003cbr\\u003edy\\u002fdx=4.800000000000001\",\"x = 2.50\\u003cbr\\u003ey = 6.25\\u003cbr\\u003edy\\u002fdx=5.0\",\"x = 2.60\\u003cbr\\u003ey = 6.76\\u003cbr\\u003edy\\u002fdx=5.200000000000001\",\"x = 2.70\\u003cbr\\u003ey = 7.29\\u003cbr\\u003edy\\u002fdx=5.4\",\"x = 2.80\\u003cbr\\u003ey = 7.84\\u003cbr\\u003edy\\u002fdx=5.600000000000001\",\"x = 2.90\\u003cbr\\u003ey = 8.41\\u003cbr\\u003edy\\u002fdx=5.800000000000001\",\"x = 3.00\\u003cbr\\u003ey = 9.00\\u003cbr\\u003edy\\u002fdx=6.0\"],\"x\":{\"dtype\":\"f8\",\"bdata\":\"AAAAAAAACMAzMzMzMzMHwGZmZmZmZgbAmpmZmZmZBcDNzMzMzMwEwAAAAAAAAATAMzMzMzMzA8BmZmZmZmYCwJqZmZmZmQHAzczMzMzMAMAAAAAAAAAAwGZmZmZmZv6\\u002fzMzMzMzM\\u002fL8zMzMzMzP7v5mZmZmZmfm\\u002fAAAAAAAA+L9mZmZmZmb2v8zMzMzMzPS\\u002fMzMzMzMz87+ZmZmZmZnxvwAAAAAAAPC\\u002fzMzMzMzM7L+YmZmZmZnpv2RmZmZmZua\\u002fMDMzMzMz478AAAAAAADgv5iZmZmZmdm\\u002fMDMzMzMz07+QmZmZmZnJv4CZmZmZmbm\\u002fAAAAAAAAAACgmZmZmZm5P6CZmZmZmck\\u002fODMzMzMz0z+gmZmZmZnZPwAAAAAAAOA\\u002fNDMzMzMz4z9oZmZmZmbmP5yZmZmZmek\\u002f0MzMzMzM7D8AAAAAAADwP5yZmZmZmfE\\u002fNDMzMzMz8z\\u002fMzMzMzMz0P2hmZmZmZvY\\u002fAAAAAAAA+D+cmZmZmZn5PzQzMzMzM\\u002fs\\u002f0MzMzMzM\\u002fD9oZmZmZmb+PwAAAAAAAABAzszMzMzMAECamZmZmZkBQGhmZmZmZgJANDMzMzMzA0AAAAAAAAAEQM7MzMzMzARAmpmZmZmZBUBoZmZmZmYGQDQzMzMzMwdAAAAAAAAACEA=\"},\"y\":{\"dtype\":\"f8\",\"bdata\":\"AAAAAAAAIkBSuB6F69EgQFuPwvUoXB9AKlyPwvUoHUAL16NwPQobQAAAAAAAABlACtejcD0KF0AoXI\\u002fC9SgVQF2PwvUoXBNApHA9CtejEUAAAAAAAAAQQOF6FK5H4QxA6lG4HoXrCUAehetRuB4HQHoUrkfhegRAAAAAAAAAAkBbj8L1KFz\\u002fPwjXo3A9Cvs\\u002fCtejcD0K9z9bj8L1KFzzPwAAAAAAAPA\\u002f6lG4HoXr6T94FK5H4XrkP1WPwvUoXN8\\u002fA9ejcD0K1z8AAAAAAADQP3gUrkfhesQ\\u002fA9ejcD0Ktz9sFK5H4XqkP1IUrkfheoQ\\u002fAAAAAAAAAACFFK5H4XqEP4UUrkfheqQ\\u002fFtejcD0Ktz+FFK5H4XrEPwAAAAAAANA\\u002fDNejcD0K1z9hj8L1KFzfP38UrkfheuQ\\u002f8VG4HoXr6T8AAAAAAADwP2GPwvUoXPM\\u002fDNejcD0K9z8I16NwPQr7P2GPwvUoXP8\\u002fAAAAAAAAAkB\\u002fFK5H4XoEQCCF61G4HgdA8VG4HoXrCUDkehSuR+EMQAAAAAAAABBApnA9CtejEUBdj8L1KFwTQC1cj8L1KBVADNejcD0KF0AAAAAAAAAZQA3Xo3A9ChtAKlyPwvUoHUBhj8L1KFwfQFO4HoXr0SBAAAAAAAAAIkA=\"},\"type\":\"scatter\"}],                        {\"template\":{\"data\":{\"histogram2dcontour\":[{\"type\":\"histogram2dcontour\",\"colorbar\":{\"outlinewidth\":0,\"ticks\":\"\"},\"colorscale\":[[0.0,\"#0d0887\"],[0.1111111111111111,\"#46039f\"],[0.2222222222222222,\"#7201a8\"],[0.3333333333333333,\"#9c179e\"],[0.4444444444444444,\"#bd3786\"],[0.5555555555555556,\"#d8576b\"],[0.6666666666666666,\"#ed7953\"],[0.7777777777777778,\"#fb9f3a\"],[0.8888888888888888,\"#fdca26\"],[1.0,\"#f0f921\"]]}],\"choropleth\":[{\"type\":\"choropleth\",\"colorbar\":{\"outlinewidth\":0,\"ticks\":\"\"}}],\"histogram2d\":[{\"type\":\"histogram2d\",\"colorbar\":{\"outlinewidth\":0,\"ticks\":\"\"},\"colorscale\":[[0.0,\"#0d0887\"],[0.1111111111111111,\"#46039f\"],[0.2222222222222222,\"#7201a8\"],[0.3333333333333333,\"#9c179e\"],[0.4444444444444444,\"#bd3786\"],[0.5555555555555556,\"#d8576b\"],[0.6666666666666666,\"#ed7953\"],[0.7777777777777778,\"#fb9f3a\"],[0.8888888888888888,\"#fdca26\"],[1.0,\"#f0f921\"]]}],\"heatmap\":[{\"type\":\"heatmap\",\"colorbar\":{\"outlinewidth\":0,\"ticks\":\"\"},\"colorscale\":[[0.0,\"#0d0887\"],[0.1111111111111111,\"#46039f\"],[0.2222222222222222,\"#7201a8\"],[0.3333333333333333,\"#9c179e\"],[0.4444444444444444,\"#bd3786\"],[0.5555555555555556,\"#d8576b\"],[0.6666666666666666,\"#ed7953\"],[0.7777777777777778,\"#fb9f3a\"],[0.8888888888888888,\"#fdca26\"],[1.0,\"#f0f921\"]]}],\"contourcarpet\":[{\"type\":\"contourcarpet\",\"colorbar\":{\"outlinewidth\":0,\"ticks\":\"\"}}],\"contour\":[{\"type\":\"contour\",\"colorbar\":{\"outlinewidth\":0,\"ticks\":\"\"},\"colorscale\":[[0.0,\"#0d0887\"],[0.1111111111111111,\"#46039f\"],[0.2222222222222222,\"#7201a8\"],[0.3333333333333333,\"#9c179e\"],[0.4444444444444444,\"#bd3786\"],[0.5555555555555556,\"#d8576b\"],[0.6666666666666666,\"#ed7953\"],[0.7777777777777778,\"#fb9f3a\"],[0.8888888888888888,\"#fdca26\"],[1.0,\"#f0f921\"]]}],\"surface\":[{\"type\":\"surface\",\"colorbar\":{\"outlinewidth\":0,\"ticks\":\"\"},\"colorscale\":[[0.0,\"#0d0887\"],[0.1111111111111111,\"#46039f\"],[0.2222222222222222,\"#7201a8\"],[0.3333333333333333,\"#9c179e\"],[0.4444444444444444,\"#bd3786\"],[0.5555555555555556,\"#d8576b\"],[0.6666666666666666,\"#ed7953\"],[0.7777777777777778,\"#fb9f3a\"],[0.8888888888888888,\"#fdca26\"],[1.0,\"#f0f921\"]]}],\"mesh3d\":[{\"type\":\"mesh3d\",\"colorbar\":{\"outlinewidth\":0,\"ticks\":\"\"}}],\"scatter\":[{\"fillpattern\":{\"fillmode\":\"overlay\",\"size\":10,\"solidity\":0.2},\"type\":\"scatter\"}],\"parcoords\":[{\"type\":\"parcoords\",\"line\":{\"colorbar\":{\"outlinewidth\":0,\"ticks\":\"\"}}}],\"scatterpolargl\":[{\"type\":\"scatterpolargl\",\"marker\":{\"colorbar\":{\"outlinewidth\":0,\"ticks\":\"\"}}}],\"bar\":[{\"error_x\":{\"color\":\"#2a3f5f\"},\"error_y\":{\"color\":\"#2a3f5f\"},\"marker\":{\"line\":{\"color\":\"#E5ECF6\",\"width\":0.5},\"pattern\":{\"fillmode\":\"overlay\",\"size\":10,\"solidity\":0.2}},\"type\":\"bar\"}],\"scattergeo\":[{\"type\":\"scattergeo\",\"marker\":{\"colorbar\":{\"outlinewidth\":0,\"ticks\":\"\"}}}],\"scatterpolar\":[{\"type\":\"scatterpolar\",\"marker\":{\"colorbar\":{\"outlinewidth\":0,\"ticks\":\"\"}}}],\"histogram\":[{\"marker\":{\"pattern\":{\"fillmode\":\"overlay\",\"size\":10,\"solidity\":0.2}},\"type\":\"histogram\"}],\"scattergl\":[{\"type\":\"scattergl\",\"marker\":{\"colorbar\":{\"outlinewidth\":0,\"ticks\":\"\"}}}],\"scatter3d\":[{\"type\":\"scatter3d\",\"line\":{\"colorbar\":{\"outlinewidth\":0,\"ticks\":\"\"}},\"marker\":{\"colorbar\":{\"outlinewidth\":0,\"ticks\":\"\"}}}],\"scattermap\":[{\"type\":\"scattermap\",\"marker\":{\"colorbar\":{\"outlinewidth\":0,\"ticks\":\"\"}}}],\"scattermapbox\":[{\"type\":\"scattermapbox\",\"marker\":{\"colorbar\":{\"outlinewidth\":0,\"ticks\":\"\"}}}],\"scatterternary\":[{\"type\":\"scatterternary\",\"marker\":{\"colorbar\":{\"outlinewidth\":0,\"ticks\":\"\"}}}],\"scattercarpet\":[{\"type\":\"scattercarpet\",\"marker\":{\"colorbar\":{\"outlinewidth\":0,\"ticks\":\"\"}}}],\"carpet\":[{\"aaxis\":{\"endlinecolor\":\"#2a3f5f\",\"gridcolor\":\"white\",\"linecolor\":\"white\",\"minorgridcolor\":\"white\",\"startlinecolor\":\"#2a3f5f\"},\"baxis\":{\"endlinecolor\":\"#2a3f5f\",\"gridcolor\":\"white\",\"linecolor\":\"white\",\"minorgridcolor\":\"white\",\"startlinecolor\":\"#2a3f5f\"},\"type\":\"carpet\"}],\"table\":[{\"cells\":{\"fill\":{\"color\":\"#EBF0F8\"},\"line\":{\"color\":\"white\"}},\"header\":{\"fill\":{\"color\":\"#C8D4E3\"},\"line\":{\"color\":\"white\"}},\"type\":\"table\"}],\"barpolar\":[{\"marker\":{\"line\":{\"color\":\"#E5ECF6\",\"width\":0.5},\"pattern\":{\"fillmode\":\"overlay\",\"size\":10,\"solidity\":0.2}},\"type\":\"barpolar\"}],\"pie\":[{\"automargin\":true,\"type\":\"pie\"}]},\"layout\":{\"autotypenumbers\":\"strict\",\"colorway\":[\"#636efa\",\"#EF553B\",\"#00cc96\",\"#ab63fa\",\"#FFA15A\",\"#19d3f3\",\"#FF6692\",\"#B6E880\",\"#FF97FF\",\"#FECB52\"],\"font\":{\"color\":\"#2a3f5f\"},\"hovermode\":\"closest\",\"hoverlabel\":{\"align\":\"left\"},\"paper_bgcolor\":\"white\",\"plot_bgcolor\":\"#E5ECF6\",\"polar\":{\"bgcolor\":\"#E5ECF6\",\"angularaxis\":{\"gridcolor\":\"white\",\"linecolor\":\"white\",\"ticks\":\"\"},\"radialaxis\":{\"gridcolor\":\"white\",\"linecolor\":\"white\",\"ticks\":\"\"}},\"ternary\":{\"bgcolor\":\"#E5ECF6\",\"aaxis\":{\"gridcolor\":\"white\",\"linecolor\":\"white\",\"ticks\":\"\"},\"baxis\":{\"gridcolor\":\"white\",\"linecolor\":\"white\",\"ticks\":\"\"},\"caxis\":{\"gridcolor\":\"white\",\"linecolor\":\"white\",\"ticks\":\"\"}},\"coloraxis\":{\"colorbar\":{\"outlinewidth\":0,\"ticks\":\"\"}},\"colorscale\":{\"sequential\":[[0.0,\"#0d0887\"],[0.1111111111111111,\"#46039f\"],[0.2222222222222222,\"#7201a8\"],[0.3333333333333333,\"#9c179e\"],[0.4444444444444444,\"#bd3786\"],[0.5555555555555556,\"#d8576b\"],[0.6666666666666666,\"#ed7953\"],[0.7777777777777778,\"#fb9f3a\"],[0.8888888888888888,\"#fdca26\"],[1.0,\"#f0f921\"]],\"sequentialminus\":[[0.0,\"#0d0887\"],[0.1111111111111111,\"#46039f\"],[0.2222222222222222,\"#7201a8\"],[0.3333333333333333,\"#9c179e\"],[0.4444444444444444,\"#bd3786\"],[0.5555555555555556,\"#d8576b\"],[0.6666666666666666,\"#ed7953\"],[0.7777777777777778,\"#fb9f3a\"],[0.8888888888888888,\"#fdca26\"],[1.0,\"#f0f921\"]],\"diverging\":[[0,\"#8e0152\"],[0.1,\"#c51b7d\"],[0.2,\"#de77ae\"],[0.3,\"#f1b6da\"],[0.4,\"#fde0ef\"],[0.5,\"#f7f7f7\"],[0.6,\"#e6f5d0\"],[0.7,\"#b8e186\"],[0.8,\"#7fbc41\"],[0.9,\"#4d9221\"],[1,\"#276419\"]]},\"xaxis\":{\"gridcolor\":\"white\",\"linecolor\":\"white\",\"ticks\":\"\",\"title\":{\"standoff\":15},\"zerolinecolor\":\"white\",\"automargin\":true,\"zerolinewidth\":2},\"yaxis\":{\"gridcolor\":\"white\",\"linecolor\":\"white\",\"ticks\":\"\",\"title\":{\"standoff\":15},\"zerolinecolor\":\"white\",\"automargin\":true,\"zerolinewidth\":2},\"scene\":{\"xaxis\":{\"backgroundcolor\":\"#E5ECF6\",\"gridcolor\":\"white\",\"linecolor\":\"white\",\"showbackground\":true,\"ticks\":\"\",\"zerolinecolor\":\"white\",\"gridwidth\":2},\"yaxis\":{\"backgroundcolor\":\"#E5ECF6\",\"gridcolor\":\"white\",\"linecolor\":\"white\",\"showbackground\":true,\"ticks\":\"\",\"zerolinecolor\":\"white\",\"gridwidth\":2},\"zaxis\":{\"backgroundcolor\":\"#E5ECF6\",\"gridcolor\":\"white\",\"linecolor\":\"white\",\"showbackground\":true,\"ticks\":\"\",\"zerolinecolor\":\"white\",\"gridwidth\":2}},\"shapedefaults\":{\"line\":{\"color\":\"#2a3f5f\"}},\"annotationdefaults\":{\"arrowcolor\":\"#2a3f5f\",\"arrowhead\":0,\"arrowwidth\":1},\"geo\":{\"bgcolor\":\"white\",\"landcolor\":\"#E5ECF6\",\"subunitcolor\":\"white\",\"showland\":true,\"showlakes\":true,\"lakecolor\":\"white\"},\"title\":{\"x\":0.05},\"mapbox\":{\"style\":\"light\"}}},\"xaxis\":{\"title\":{\"text\":\"x\"},\"range\":[-3.2,3.2]},\"yaxis\":{\"title\":{\"text\":\"y\"},\"range\":[-0.2,9.5]},\"title\":{\"text\":\"Parabola with custom hover\"}},                        {\"responsive\": true}                    ).then(function(){\n",
       "                            \n",
       "var gd = document.getElementById('f68e07d3-792a-4293-bff9-76a4ee204a81');\n",
       "var x = new MutationObserver(function (mutations, observer) {{\n",
       "        var display = window.getComputedStyle(gd).display;\n",
       "        if (!display || display === 'none') {{\n",
       "            console.log([gd, 'removed!']);\n",
       "            Plotly.purge(gd);\n",
       "            observer.disconnect();\n",
       "        }}\n",
       "}});\n",
       "\n",
       "// Listen for the removal of the full notebook cells\n",
       "var notebookContainer = gd.closest('#notebook-container');\n",
       "if (notebookContainer) {{\n",
       "    x.observe(notebookContainer, {childList: true});\n",
       "}}\n",
       "\n",
       "// Listen for the clearing of the current output cell\n",
       "var outputEl = gd.closest('.output');\n",
       "if (outputEl) {{\n",
       "    x.observe(outputEl, {childList: true});\n",
       "}}\n",
       "\n",
       "                        })                };            </script>        </div>"
      ]
     },
     "metadata": {},
     "output_type": "display_data"
    }
   ],
   "source": [
    "# 4) figure + layout polish\n",
    "fig = Figure(data=trace)\n",
    "fig.update_layout(\n",
    "    title=\"Parabola with custom hover\",\n",
    "    xaxis_title=\"x\",\n",
    "    yaxis_title=\"y\",\n",
    "    # Optional: fix the view window (axes ranges)\n",
    "    xaxis=dict(range=[-3.2, 3.2]),\n",
    "    yaxis=dict(range=[-0.2, 9.5]),\n",
    ")\n",
    "\n",
    "fig.show()"
   ]
  },
  {
   "cell_type": "markdown",
   "id": "d94fc02e",
   "metadata": {},
   "source": [
    "## What’s new\n",
    "\n",
    "text=... + hoverinfo=\"text\": you control exactly what shows in the tooltip.\n",
    "\n",
    "xaxis=dict(range=[...]): force axis limits (handy to keep visuals consistent across runs)."
   ]
  },
  {
   "cell_type": "markdown",
   "id": "51be4572",
   "metadata": {},
   "source": [
    "## Mini-exercise (1 min):\n",
    "\n",
    "Change hovertext to also include dy/dx\n",
    "\n",
    "Try hoverinfo=\"x+y+name\" (built-in fields) and remove text= to compare."
   ]
  },
  {
   "cell_type": "markdown",
   "id": "a92b9e10",
   "metadata": {},
   "source": []
  }
 ],
 "metadata": {
  "kernelspec": {
   "display_name": "Python 3",
   "language": "python",
   "name": "python3"
  },
  "language_info": {
   "codemirror_mode": {
    "name": "ipython",
    "version": 3
   },
   "file_extension": ".py",
   "mimetype": "text/x-python",
   "name": "python",
   "nbconvert_exporter": "python",
   "pygments_lexer": "ipython3",
   "version": "3.13.7"
  }
 },
 "nbformat": 4,
 "nbformat_minor": 5
}
