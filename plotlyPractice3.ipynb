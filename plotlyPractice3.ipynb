{
 "cells": [
  {
   "cell_type": "markdown",
   "id": "df9b6346",
   "metadata": {},
   "source": [
    "## Working with pandas"
   ]
  },
  {
   "cell_type": "code",
   "execution_count": 1,
   "id": "5698cd02",
   "metadata": {},
   "outputs": [],
   "source": [
    "import numpy as np\n",
    "import pandas as pd\n",
    "from plotly.graph_objects import Figure, Scatter"
   ]
  },
  {
   "cell_type": "code",
   "execution_count": null,
   "id": "9550586f",
   "metadata": {},
   "outputs": [],
   "source": [
    "# 1) make a small table (DataFrame)\n",
    "x = np.linspace(-2*np.pi, 2*np.pi, 121)\n",
    "df = pd.DataFrame({\n",
    "    # the array 'x' is a column in the table. One row is x,sin(x),cos(x)\n",
    "    \"x\": x,\n",
    "    \"sin_x\": np.sin(x),\n",
    "    \"cos_x\": np.cos(x),\n",
    "})"
   ]
  },
  {
   "cell_type": "code",
   "execution_count": null,
   "id": "5fc82eb7",
   "metadata": {},
   "outputs": [],
   "source": [
    "# 2) build two traces from columns\n",
    "sin_trace = Scatter(x=df[\"x\"], y=df[\"sin_x\"], mode=\"lines\", name=\"sin(x)\")  #Modes could be lines,markers and lines+markers\n",
    "cos_trace = Scatter(x=df[\"x\"], y=df[\"cos_x\"], mode=\"lines\", name=\"cos(x)\")"
   ]
  },
  {
   "cell_type": "code",
   "execution_count": 5,
   "id": "ba04bfe1",
   "metadata": {},
   "outputs": [
    {
     "data": {
      "application/vnd.plotly.v1+json": {
       "config": {
        "plotlyServerURL": "https://plot.ly"
       },
       "data": [
        {
         "mode": "lines",
         "name": "sin(x)",
         "type": "scatter",
         "x": {
          "bdata": "GC1EVPshGcBpPXasv7YYwLlNqASESxjACl7aXEjgF8Bbbgy1DHUXwKt+Pg3RCRfA/I5wZZWeFsBNn6K9WTMWwJ2v1BUeyBXA7r8GbuJcFcA/0DjGpvEUwJDgah5rhhTA4PCcdi8bFMAxAc/O868TwIIRASe4RBPA0iEzf3zZEsAjMmXXQG4SwHRCly8FAxLAxFLJh8mXEcAVY/vfjSwRwGZzLThSwRDAtoNfkBZWEMAOKCPRtdUPwK9Ih4E+/w7AUGnrMccoDsDyiU/iT1INwJOqs5LYewzANMsXQ2GlC8DW63vz6c4KwHcM4KNy+AnAGC1EVPshCcC6TagEhEsIwFtuDLUMdQfA/I5wZZWeBsCer9QVHsgFwD/QOMam8QTA4PCcdi8bBMCCEQEnuEQDwCMyZddAbgLAxFLJh8mXAcBmcy04UsEAwBAoI9G11f+/UGnrMcco/r+UqrOS2Hv8v9jre/Ppzvq/GC1EVPsh+b9cbgy1DHX3v6Cv1BUeyPW/4PCcdi8b9L8kMmXXQG7yv2hzLThSwfC/UGnrMcco7r/Y63vz6c7qv2BuDLUMdee/4PCcdi8b5L9ocy04UsHgv+Dre/Ppztq/4PCcdi8b1L/g63vz6c7KvwDse/Ppzrq/AAAAAAAAAADA63vz6c66P8Dre/Ppzso/4PCcdi8b1D/Q63vz6c7aP2BzLThSweA/4PCcdi8b5D9Ybgy1DHXnP9Dre/Ppzuo/UGnrMcco7j9kcy04UsHwPyAyZddAbvI/4PCcdi8b9D+cr9QVHsj1P1huDLUMdfc/GC1EVPsh+T/U63vz6c76P5Cqs5LYe/w/UGnrMcco/j8IKCPRtdX/P2RzLThSwQBAxFLJh8mXAUAgMmXXQG4CQIARASe4RANA4PCcdi8bBEA80DjGpvEEQJyv1BUeyAVA/I5wZZWeBkBYbgy1DHUHQLhNqASESwhAGC1EVPshCUB0DOCjcvgJQNTre/PpzgpANMsXQ2GlC0CQqrOS2HsMQPCJT+JPUg1AUGnrMccoDkCsSIeBPv8OQAwoI9G11Q9AtoNfkBZWEEBkcy04UsEQQBRj+9+NLBFAxFLJh8mXEUByQpcvBQMSQCIyZddAbhJA0iEzf3zZEkCAEQEnuEQTQDABz87zrxNA4PCcdi8bFECO4Goea4YUQD7QOMam8RRA7r8GbuJcFUCcr9QVHsgVQEyfor1ZMxZA/I5wZZWeFkCqfj4N0QkXQFpuDLUMdRdACl7aXEjgF0C4TagEhEsYQGg9dqy/thhAGC1EVPshGUA=",
          "dtype": "f8"
         },
         "y": {
          "bdata": "B1wUMyamsTxoVzybYMK6PwlZQqzZnMo/VOkvN+/G0z/QGgYh+QfaPwQAAAAAAOA/YFp1BCPP4j/XC+KWhGnlP8W+M6jXx+c/qfSXm3fj6T+qTFjoerbrP5R//67DO+0/AFVEEw5v7j9/AHoy/EzvP8Zn+JQf0+8/AAAAAAAA8D/HZ/iUH9PvP4AAejL8TO8//1REEw5v7j+Wf/+uwzvtP6xMWOh6tus/p/SXm3fj6T/DvjOo18fnP9gL4paEaeU/XVp1BCPP4j8BAAAAAADgP9EaBiH5B9o/TekvN+/G0z/8WEKs2ZzKP25XPJtgwro/B1wUMyamobxfVzybYMK6v/VYQqzZnMq/UekvN+/G07/OGgYh+Qfav////////9+/X1p1BCPP4r/WC+KWhGnlv8K+M6jXx+e/qPSXm3fj6b+qTFjoerbrv5N//67DO+2/AFVEEw5v7r9/AHoy/Ezvv8Zn+JQf0++/AAAAAAAA8L/HZ/iUH9Pvv4EAejL8TO+//1REEw5v7r+Wf/+uwzvtv61MWOh6tuu/qPSXm3fj6b/DvjOo18fnv9wL4paEaeW/Xlp1BCPP4r8CAAAAAADgv9oaBiH5B9q/T+kvN+/G078AWUKs2ZzKv5ZXPJtgwrq/AAAAAAAAAABXVzybYMK6P+FYQqzZnMo/T+kvN+/G0z/MGgYh+QfaP/b//////98/Xlp1BCPP4j/WC+KWhGnlP76+M6jXx+c/qPSXm3fj6T+pTFjoerbrP5N//67DO+0//1REEw5v7j9/AHoy/EzvP8Zn+JQf0+8/AAAAAAAA8D/HZ/iUH9PvP4EAejL8TO8/AFVEEw5v7j+af/+uwzvtP65MWOh6tus/qPSXm3fj6T/JvjOo18fnP9wL4paEaeU/X1p1BCPP4j8KAAAAAADgP9waBiH5B9o/UekvN+/G0z8kWUKs2ZzKP59XPJtgwro/B1wUMyamoTwOVzybYMK6v9xYQqzZnMq/TekvN+/G07+7GgYh+Qfav/T//////9+/XVp1BCPP4r/PC+KWhGnlv72+M6jXx+e/p/SXm3fj6b+kTFjoerbrv5J//67DO+2//1REEw5v7r99AHoy/Ezvv8Zn+JQf0++/AAAAAAAA8L/IZ/iUH9Pvv4EAejL8TO+/AFVEEw5v7r+af/+uwzvtv65MWOh6tuu/qfSXm3fj6b/KvjOo18fnv90L4paEaeW/YFp1BCPP4r8LAAAAAADgv94aBiH5B9q/VOkvN+/G078oWUKs2ZzKv6hXPJtgwrq/B1wUMyamsbw=",
          "dtype": "f8"
         }
        },
        {
         "mode": "lines",
         "name": "cos(x)",
         "type": "scatter",
         "x": {
          "bdata": "GC1EVPshGcBpPXasv7YYwLlNqASESxjACl7aXEjgF8Bbbgy1DHUXwKt+Pg3RCRfA/I5wZZWeFsBNn6K9WTMWwJ2v1BUeyBXA7r8GbuJcFcA/0DjGpvEUwJDgah5rhhTA4PCcdi8bFMAxAc/O868TwIIRASe4RBPA0iEzf3zZEsAjMmXXQG4SwHRCly8FAxLAxFLJh8mXEcAVY/vfjSwRwGZzLThSwRDAtoNfkBZWEMAOKCPRtdUPwK9Ih4E+/w7AUGnrMccoDsDyiU/iT1INwJOqs5LYewzANMsXQ2GlC8DW63vz6c4KwHcM4KNy+AnAGC1EVPshCcC6TagEhEsIwFtuDLUMdQfA/I5wZZWeBsCer9QVHsgFwD/QOMam8QTA4PCcdi8bBMCCEQEnuEQDwCMyZddAbgLAxFLJh8mXAcBmcy04UsEAwBAoI9G11f+/UGnrMcco/r+UqrOS2Hv8v9jre/Ppzvq/GC1EVPsh+b9cbgy1DHX3v6Cv1BUeyPW/4PCcdi8b9L8kMmXXQG7yv2hzLThSwfC/UGnrMcco7r/Y63vz6c7qv2BuDLUMdee/4PCcdi8b5L9ocy04UsHgv+Dre/Ppztq/4PCcdi8b1L/g63vz6c7KvwDse/Ppzrq/AAAAAAAAAADA63vz6c66P8Dre/Ppzso/4PCcdi8b1D/Q63vz6c7aP2BzLThSweA/4PCcdi8b5D9Ybgy1DHXnP9Dre/Ppzuo/UGnrMcco7j9kcy04UsHwPyAyZddAbvI/4PCcdi8b9D+cr9QVHsj1P1huDLUMdfc/GC1EVPsh+T/U63vz6c76P5Cqs5LYe/w/UGnrMcco/j8IKCPRtdX/P2RzLThSwQBAxFLJh8mXAUAgMmXXQG4CQIARASe4RANA4PCcdi8bBEA80DjGpvEEQJyv1BUeyAVA/I5wZZWeBkBYbgy1DHUHQLhNqASESwhAGC1EVPshCUB0DOCjcvgJQNTre/PpzgpANMsXQ2GlC0CQqrOS2HsMQPCJT+JPUg1AUGnrMccoDkCsSIeBPv8OQAwoI9G11Q9AtoNfkBZWEEBkcy04UsEQQBRj+9+NLBFAxFLJh8mXEUByQpcvBQMSQCIyZddAbhJA0iEzf3zZEkCAEQEnuEQTQDABz87zrxNA4PCcdi8bFECO4Goea4YUQD7QOMam8RRA7r8GbuJcFUCcr9QVHsgVQEyfor1ZMxZA/I5wZZWeFkCqfj4N0QkXQFpuDLUMdRdACl7aXEjgF0C4TagEhEsYQGg9dqy/thhAGC1EVPshGUA=",
          "dtype": "f8"
         },
         "y": {
          "bdata": "AAAAAAAA8D/GZ/iUH9PvP38AejL8TO8//1REEw5v7j+Wf/+uwzvtP6hMWOh6tus/p/SXm3fj6T/CvjOo18fnP9QL4paEaeU/XFp1BCPP4j8BAAAAAADgP9caBiH5B9o/TOkvN+/G0z/5WEKs2ZzKP4lXPJtgwro/CoqeTDl5qrxkVzybYMK6v+dYQqzZnMq/UukvN+/G07/PGgYh+Qfav/n//////9+/X1p1BCPP4r/XC+KWhGnlv8K+M6jXx+e/qPSXm3fj6b+qTFjoerbrv5V//67DO+2/AFVEEw5v7r9/AHoy/Ezvv8Zn+JQf0++/AAAAAAAA8L/HZ/iUH9Pvv4AAejL8TO+//1REEw5v7r+Wf/+uwzvtv6tMWOh6tuu/p/SXm3fj6b/DvjOo18fnv9gL4paEaeW/XVp1BCPP4r8CAAAAAADgv9kaBiH5B9q/TukvN+/G07/+WEKs2ZzKv5JXPJtgwrq/B1wUMyamkTxbVzybYMK6P+NYQqzZnMo/UOkvN+/G0z/NGgYh+QfaP/f//////98/Xlp1BCPP4j/WC+KWhGnlP76+M6jXx+c/qPSXm3fj6T+pTFjoerbrP5N//67DO+0//1REEw5v7j9/AHoy/EzvP8Zn+JQf0+8/AAAAAAAA8D/HZ/iUH9PvP4EAejL8TO8//1REEw5v7j+Wf/+uwzvtP61MWOh6tus/qPSXm3fj6T/EvjOo18fnP9wL4paEaeU/Xlp1BCPP4j8DAAAAAADgP9waBiH5B9o/UOkvN+/G0z8CWUKs2ZzKP5tXPJtgwro/B1wUMyamkTxSVzybYMK6v95YQqzZnMq/TukvN+/G07+8GgYh+Qfav/X//////9+/XVp1BCPP4r/PC+KWhGnlv76+M6jXx+e/p/SXm3fj6b+lTFjoerbrv5N//67DO+2//1REEw5v7r99AHoy/Ezvv8Zn+JQf0++/AAAAAAAA8L/IZ/iUH9Pvv4EAejL8TO+/AFVEEw5v7r+af/+uwzvtv65MWOh6tuu/qPSXm3fj6b/KvjOo18fnv90L4paEaeW/X1p1BCPP4r8KAAAAAADgv94aBiH5B9q/UukvN+/G078mWUKs2ZzKv6NXPJtgwrq/CoqeTDl5qrwKVzybYMK6P9pYQqzZnMo/TOkvN+/G0z+6GgYh+QfaP/T//////98/XFp1BCPP4j/OC+KWhGnlP72+M6jXx+c/p/SXm3fj6T+kTFjoerbrP5J//67DO+0//1REEw5v7j99AHoy/EzvP8Zn+JQf0+8/AAAAAAAA8D8=",
          "dtype": "f8"
         }
        }
       ],
       "layout": {
        "legend": {
         "title": {
          "text": "Functions"
         }
        },
        "template": {
         "data": {
          "bar": [
           {
            "error_x": {
             "color": "#2a3f5f"
            },
            "error_y": {
             "color": "#2a3f5f"
            },
            "marker": {
             "line": {
              "color": "#E5ECF6",
              "width": 0.5
             },
             "pattern": {
              "fillmode": "overlay",
              "size": 10,
              "solidity": 0.2
             }
            },
            "type": "bar"
           }
          ],
          "barpolar": [
           {
            "marker": {
             "line": {
              "color": "#E5ECF6",
              "width": 0.5
             },
             "pattern": {
              "fillmode": "overlay",
              "size": 10,
              "solidity": 0.2
             }
            },
            "type": "barpolar"
           }
          ],
          "carpet": [
           {
            "aaxis": {
             "endlinecolor": "#2a3f5f",
             "gridcolor": "white",
             "linecolor": "white",
             "minorgridcolor": "white",
             "startlinecolor": "#2a3f5f"
            },
            "baxis": {
             "endlinecolor": "#2a3f5f",
             "gridcolor": "white",
             "linecolor": "white",
             "minorgridcolor": "white",
             "startlinecolor": "#2a3f5f"
            },
            "type": "carpet"
           }
          ],
          "choropleth": [
           {
            "colorbar": {
             "outlinewidth": 0,
             "ticks": ""
            },
            "type": "choropleth"
           }
          ],
          "contour": [
           {
            "colorbar": {
             "outlinewidth": 0,
             "ticks": ""
            },
            "colorscale": [
             [
              0,
              "#0d0887"
             ],
             [
              0.1111111111111111,
              "#46039f"
             ],
             [
              0.2222222222222222,
              "#7201a8"
             ],
             [
              0.3333333333333333,
              "#9c179e"
             ],
             [
              0.4444444444444444,
              "#bd3786"
             ],
             [
              0.5555555555555556,
              "#d8576b"
             ],
             [
              0.6666666666666666,
              "#ed7953"
             ],
             [
              0.7777777777777778,
              "#fb9f3a"
             ],
             [
              0.8888888888888888,
              "#fdca26"
             ],
             [
              1,
              "#f0f921"
             ]
            ],
            "type": "contour"
           }
          ],
          "contourcarpet": [
           {
            "colorbar": {
             "outlinewidth": 0,
             "ticks": ""
            },
            "type": "contourcarpet"
           }
          ],
          "heatmap": [
           {
            "colorbar": {
             "outlinewidth": 0,
             "ticks": ""
            },
            "colorscale": [
             [
              0,
              "#0d0887"
             ],
             [
              0.1111111111111111,
              "#46039f"
             ],
             [
              0.2222222222222222,
              "#7201a8"
             ],
             [
              0.3333333333333333,
              "#9c179e"
             ],
             [
              0.4444444444444444,
              "#bd3786"
             ],
             [
              0.5555555555555556,
              "#d8576b"
             ],
             [
              0.6666666666666666,
              "#ed7953"
             ],
             [
              0.7777777777777778,
              "#fb9f3a"
             ],
             [
              0.8888888888888888,
              "#fdca26"
             ],
             [
              1,
              "#f0f921"
             ]
            ],
            "type": "heatmap"
           }
          ],
          "histogram": [
           {
            "marker": {
             "pattern": {
              "fillmode": "overlay",
              "size": 10,
              "solidity": 0.2
             }
            },
            "type": "histogram"
           }
          ],
          "histogram2d": [
           {
            "colorbar": {
             "outlinewidth": 0,
             "ticks": ""
            },
            "colorscale": [
             [
              0,
              "#0d0887"
             ],
             [
              0.1111111111111111,
              "#46039f"
             ],
             [
              0.2222222222222222,
              "#7201a8"
             ],
             [
              0.3333333333333333,
              "#9c179e"
             ],
             [
              0.4444444444444444,
              "#bd3786"
             ],
             [
              0.5555555555555556,
              "#d8576b"
             ],
             [
              0.6666666666666666,
              "#ed7953"
             ],
             [
              0.7777777777777778,
              "#fb9f3a"
             ],
             [
              0.8888888888888888,
              "#fdca26"
             ],
             [
              1,
              "#f0f921"
             ]
            ],
            "type": "histogram2d"
           }
          ],
          "histogram2dcontour": [
           {
            "colorbar": {
             "outlinewidth": 0,
             "ticks": ""
            },
            "colorscale": [
             [
              0,
              "#0d0887"
             ],
             [
              0.1111111111111111,
              "#46039f"
             ],
             [
              0.2222222222222222,
              "#7201a8"
             ],
             [
              0.3333333333333333,
              "#9c179e"
             ],
             [
              0.4444444444444444,
              "#bd3786"
             ],
             [
              0.5555555555555556,
              "#d8576b"
             ],
             [
              0.6666666666666666,
              "#ed7953"
             ],
             [
              0.7777777777777778,
              "#fb9f3a"
             ],
             [
              0.8888888888888888,
              "#fdca26"
             ],
             [
              1,
              "#f0f921"
             ]
            ],
            "type": "histogram2dcontour"
           }
          ],
          "mesh3d": [
           {
            "colorbar": {
             "outlinewidth": 0,
             "ticks": ""
            },
            "type": "mesh3d"
           }
          ],
          "parcoords": [
           {
            "line": {
             "colorbar": {
              "outlinewidth": 0,
              "ticks": ""
             }
            },
            "type": "parcoords"
           }
          ],
          "pie": [
           {
            "automargin": true,
            "type": "pie"
           }
          ],
          "scatter": [
           {
            "fillpattern": {
             "fillmode": "overlay",
             "size": 10,
             "solidity": 0.2
            },
            "type": "scatter"
           }
          ],
          "scatter3d": [
           {
            "line": {
             "colorbar": {
              "outlinewidth": 0,
              "ticks": ""
             }
            },
            "marker": {
             "colorbar": {
              "outlinewidth": 0,
              "ticks": ""
             }
            },
            "type": "scatter3d"
           }
          ],
          "scattercarpet": [
           {
            "marker": {
             "colorbar": {
              "outlinewidth": 0,
              "ticks": ""
             }
            },
            "type": "scattercarpet"
           }
          ],
          "scattergeo": [
           {
            "marker": {
             "colorbar": {
              "outlinewidth": 0,
              "ticks": ""
             }
            },
            "type": "scattergeo"
           }
          ],
          "scattergl": [
           {
            "marker": {
             "colorbar": {
              "outlinewidth": 0,
              "ticks": ""
             }
            },
            "type": "scattergl"
           }
          ],
          "scattermap": [
           {
            "marker": {
             "colorbar": {
              "outlinewidth": 0,
              "ticks": ""
             }
            },
            "type": "scattermap"
           }
          ],
          "scattermapbox": [
           {
            "marker": {
             "colorbar": {
              "outlinewidth": 0,
              "ticks": ""
             }
            },
            "type": "scattermapbox"
           }
          ],
          "scatterpolar": [
           {
            "marker": {
             "colorbar": {
              "outlinewidth": 0,
              "ticks": ""
             }
            },
            "type": "scatterpolar"
           }
          ],
          "scatterpolargl": [
           {
            "marker": {
             "colorbar": {
              "outlinewidth": 0,
              "ticks": ""
             }
            },
            "type": "scatterpolargl"
           }
          ],
          "scatterternary": [
           {
            "marker": {
             "colorbar": {
              "outlinewidth": 0,
              "ticks": ""
             }
            },
            "type": "scatterternary"
           }
          ],
          "surface": [
           {
            "colorbar": {
             "outlinewidth": 0,
             "ticks": ""
            },
            "colorscale": [
             [
              0,
              "#0d0887"
             ],
             [
              0.1111111111111111,
              "#46039f"
             ],
             [
              0.2222222222222222,
              "#7201a8"
             ],
             [
              0.3333333333333333,
              "#9c179e"
             ],
             [
              0.4444444444444444,
              "#bd3786"
             ],
             [
              0.5555555555555556,
              "#d8576b"
             ],
             [
              0.6666666666666666,
              "#ed7953"
             ],
             [
              0.7777777777777778,
              "#fb9f3a"
             ],
             [
              0.8888888888888888,
              "#fdca26"
             ],
             [
              1,
              "#f0f921"
             ]
            ],
            "type": "surface"
           }
          ],
          "table": [
           {
            "cells": {
             "fill": {
              "color": "#EBF0F8"
             },
             "line": {
              "color": "white"
             }
            },
            "header": {
             "fill": {
              "color": "#C8D4E3"
             },
             "line": {
              "color": "white"
             }
            },
            "type": "table"
           }
          ]
         },
         "layout": {
          "annotationdefaults": {
           "arrowcolor": "#2a3f5f",
           "arrowhead": 0,
           "arrowwidth": 1
          },
          "autotypenumbers": "strict",
          "coloraxis": {
           "colorbar": {
            "outlinewidth": 0,
            "ticks": ""
           }
          },
          "colorscale": {
           "diverging": [
            [
             0,
             "#8e0152"
            ],
            [
             0.1,
             "#c51b7d"
            ],
            [
             0.2,
             "#de77ae"
            ],
            [
             0.3,
             "#f1b6da"
            ],
            [
             0.4,
             "#fde0ef"
            ],
            [
             0.5,
             "#f7f7f7"
            ],
            [
             0.6,
             "#e6f5d0"
            ],
            [
             0.7,
             "#b8e186"
            ],
            [
             0.8,
             "#7fbc41"
            ],
            [
             0.9,
             "#4d9221"
            ],
            [
             1,
             "#276419"
            ]
           ],
           "sequential": [
            [
             0,
             "#0d0887"
            ],
            [
             0.1111111111111111,
             "#46039f"
            ],
            [
             0.2222222222222222,
             "#7201a8"
            ],
            [
             0.3333333333333333,
             "#9c179e"
            ],
            [
             0.4444444444444444,
             "#bd3786"
            ],
            [
             0.5555555555555556,
             "#d8576b"
            ],
            [
             0.6666666666666666,
             "#ed7953"
            ],
            [
             0.7777777777777778,
             "#fb9f3a"
            ],
            [
             0.8888888888888888,
             "#fdca26"
            ],
            [
             1,
             "#f0f921"
            ]
           ],
           "sequentialminus": [
            [
             0,
             "#0d0887"
            ],
            [
             0.1111111111111111,
             "#46039f"
            ],
            [
             0.2222222222222222,
             "#7201a8"
            ],
            [
             0.3333333333333333,
             "#9c179e"
            ],
            [
             0.4444444444444444,
             "#bd3786"
            ],
            [
             0.5555555555555556,
             "#d8576b"
            ],
            [
             0.6666666666666666,
             "#ed7953"
            ],
            [
             0.7777777777777778,
             "#fb9f3a"
            ],
            [
             0.8888888888888888,
             "#fdca26"
            ],
            [
             1,
             "#f0f921"
            ]
           ]
          },
          "colorway": [
           "#636efa",
           "#EF553B",
           "#00cc96",
           "#ab63fa",
           "#FFA15A",
           "#19d3f3",
           "#FF6692",
           "#B6E880",
           "#FF97FF",
           "#FECB52"
          ],
          "font": {
           "color": "#2a3f5f"
          },
          "geo": {
           "bgcolor": "white",
           "lakecolor": "white",
           "landcolor": "#E5ECF6",
           "showlakes": true,
           "showland": true,
           "subunitcolor": "white"
          },
          "hoverlabel": {
           "align": "left"
          },
          "hovermode": "closest",
          "mapbox": {
           "style": "light"
          },
          "paper_bgcolor": "white",
          "plot_bgcolor": "#E5ECF6",
          "polar": {
           "angularaxis": {
            "gridcolor": "white",
            "linecolor": "white",
            "ticks": ""
           },
           "bgcolor": "#E5ECF6",
           "radialaxis": {
            "gridcolor": "white",
            "linecolor": "white",
            "ticks": ""
           }
          },
          "scene": {
           "xaxis": {
            "backgroundcolor": "#E5ECF6",
            "gridcolor": "white",
            "gridwidth": 2,
            "linecolor": "white",
            "showbackground": true,
            "ticks": "",
            "zerolinecolor": "white"
           },
           "yaxis": {
            "backgroundcolor": "#E5ECF6",
            "gridcolor": "white",
            "gridwidth": 2,
            "linecolor": "white",
            "showbackground": true,
            "ticks": "",
            "zerolinecolor": "white"
           },
           "zaxis": {
            "backgroundcolor": "#E5ECF6",
            "gridcolor": "white",
            "gridwidth": 2,
            "linecolor": "white",
            "showbackground": true,
            "ticks": "",
            "zerolinecolor": "white"
           }
          },
          "shapedefaults": {
           "line": {
            "color": "#2a3f5f"
           }
          },
          "ternary": {
           "aaxis": {
            "gridcolor": "white",
            "linecolor": "white",
            "ticks": ""
           },
           "baxis": {
            "gridcolor": "white",
            "linecolor": "white",
            "ticks": ""
           },
           "bgcolor": "#E5ECF6",
           "caxis": {
            "gridcolor": "white",
            "linecolor": "white",
            "ticks": ""
           }
          },
          "title": {
           "x": 0.05
          },
          "xaxis": {
           "automargin": true,
           "gridcolor": "white",
           "linecolor": "white",
           "ticks": "",
           "title": {
            "standoff": 15
           },
           "zerolinecolor": "white",
           "zerolinewidth": 2
          },
          "yaxis": {
           "automargin": true,
           "gridcolor": "white",
           "linecolor": "white",
           "ticks": "",
           "title": {
            "standoff": 15
           },
           "zerolinecolor": "white",
           "zerolinewidth": 2
          }
         }
        },
        "title": {
         "text": "Two lines from a Pandas DataFrame"
        },
        "xaxis": {
         "tickmode": "array",
         "ticktext": [
          "-2π",
          "-π",
          "0",
          "π",
          "2π"
         ],
         "tickvals": [
          -6.283185307179586,
          -3.141592653589793,
          0,
          3.141592653589793,
          6.283185307179586
         ],
         "title": {
          "text": "x (radians)"
         }
        },
        "yaxis": {
         "title": {
          "text": "value"
         }
        }
       }
      }
     },
     "metadata": {},
     "output_type": "display_data"
    }
   ],
   "source": [
    "# 3) put both in one figure\n",
    "fig = Figure(data=[sin_trace, cos_trace])\n",
    "fig.update_layout(\n",
    "    title=\"Two lines from a Pandas DataFrame\",\n",
    "    xaxis_title=\"x (radians)\",\n",
    "    yaxis_title=\"value\",\n",
    "    legend_title=\"Functions\"\n",
    ")\n",
    "\n",
    "fig.update_xaxes(\n",
    "    tickmode=\"array\",\n",
    "    tickvals=[-2*np.pi, -np.pi, 0, np.pi, 2*np.pi],\n",
    "    ticktext=[\"-2π\", \"-π\", \"0\", \"π\", \"2π\"]\n",
    ")\n",
    "\n",
    "\n",
    "fig.show()"
   ]
  },
  {
   "cell_type": "markdown",
   "id": "9bb4b23f",
   "metadata": {},
   "source": [
    "## What’s new\n",
    "\n",
    "pd.DataFrame({...}): a labeled table where columns have names.\n",
    "\n",
    "You can pass Series like df[\"sin_x\"] straight into Plotly.\n",
    "\n",
    "Multiple traces = multiple lines on the same axes + a legend."
   ]
  }
 ],
 "metadata": {
  "kernelspec": {
   "display_name": "Python 3",
   "language": "python",
   "name": "python3"
  },
  "language_info": {
   "codemirror_mode": {
    "name": "ipython",
    "version": 3
   },
   "file_extension": ".py",
   "mimetype": "text/x-python",
   "name": "python",
   "nbconvert_exporter": "python",
   "pygments_lexer": "ipython3",
   "version": "3.13.7"
  }
 },
 "nbformat": 4,
 "nbformat_minor": 5
}
