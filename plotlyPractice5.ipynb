{
 "cells": [
  {
   "cell_type": "markdown",
   "id": "0ac70fb7",
   "metadata": {},
   "source": [
    "## Intro to 3D\n",
    "Parametric curves"
   ]
  },
  {
   "cell_type": "code",
   "execution_count": 1,
   "id": "20e08cba",
   "metadata": {},
   "outputs": [],
   "source": [
    "import numpy as np\n",
    "from plotly.graph_objects import Figure, Scatter3d"
   ]
  },
  {
   "cell_type": "code",
   "execution_count": 2,
   "id": "f56d2729",
   "metadata": {},
   "outputs": [],
   "source": [
    "t = np.linspace(0, 6*np.pi, 400)\n",
    "x = np.cos(t)\n",
    "y = np.sin(t)\n",
    "z = t/(2*np.pi)"
   ]
  },
  {
   "cell_type": "code",
   "execution_count": 5,
   "id": "8bdc6fa0",
   "metadata": {},
   "outputs": [],
   "source": [
    "trace3d = Scatter3d(\n",
    "    x=x, y=y, z=z,\n",
    "    mode=\"markers\",\n",
    "    marker=dict(size=2),\n",
    "    line=dict(width=6),\n",
    "    name=\"helix\",\n",
    "    hovertemplate=\"t=%{customdata:.2f}<br>x=%{x:.2f}<br>y=%{y:.2f}<br>z=%{z:.2f}<extra></extra>\",\n",
    "    customdata=t,  # pass t so it shows in hover\n",
    ")"
   ]
  },
  {
   "cell_type": "code",
   "execution_count": 13,
   "id": "0eb5ea6f",
   "metadata": {},
   "outputs": [
    {
     "data": {
      "application/vnd.plotly.v1+json": {
       "config": {
        "plotlyServerURL": "https://plot.ly"
       },
       "data": [
        {
         "customdata": {
          "bdata": "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",
          "dtype": "f8"
         },
         "hovertemplate": "t=%{customdata:.2f}<br>x=%{x:.2f}<br>y=%{y:.2f}<br>z=%{z:.2f}<extra></extra>",
         "line": {
          "width": 6
         },
         "marker": {
          "size": 2
         },
         "mode": "markers",
         "name": "helix",
         "type": "scatter3d",
         "x": {
          "bdata": "AAAAAAAA8D9+hIg33PbvPz6fsxZ22+8/B3k6RN2t7z8wDQ3MK27vPyoycRCGHO8/ZvM5tRq57j/hGyOFIkTuP34pYFHgve0/PjFxy6Am7T8KglNZun7sP5sMJ+SMxus/28FkoYH+6j+8M8XWCifqPyPN+ZijQOk/vepdhc9L6D9g/sd2GknnP22vpTUYOeY/HpuQI2Qc5T/S7YvioPPjPy2JHfh3v+I/ysh3bJmA4T9kNutluzfgPx89s4Ezy90/0OvLSOsV2z9itzwoKlHYP3KCvv2EftU//KVglpif0j9ByHSFEWzPP41dNc7+hsk/mn9+EFeTwz9i7ndUASm7PwQcanKhN64/0jAnc/UviD/Z9lf9GiOiv/H1IITrI7W/TMfUBhuVwL8ndnZWx47Gv4BFAuOQe8y/ghZynQos0b/hgOybfRDUv3l5SHR66da/6Zb1uWC12b/gTlt6l3Lcv38CdCaOH9+/d6LOu17d4L/TU40nVCHiv2iv5UfuWuO/STDL+HmJ5L/9HApnSqzlv93XAHO5wua/nzCFDyjM57+kgb+c/sfov6Syxz6ttem/vabSL6yU6r90JMENfGTrv/jp4yKmJOy/cFzLqbzU7L8EFvwLW3Ttv7yAZBsmA+6/kqtyRsyA7r/1mKzGBe3uv+JosMmUR++/svKElEWQ779soiah7sbvvy24P7Zw6++/CV3++Lb9778JXf74tv3vvy24P7Zw6++/bKImoe7G77+z8oSURZDvv+NosMmUR++/9ZisxgXt7r+Rq3JGzIDuv72AZBsmA+6/BRb8C1t07b9xXMupvNTsv/np4yKmJOy/dSTBDXxk67+8ptIvrJTqv6Oyxz6ttem/pYG/nP7H6L+gMIUPKMznv9/XAHO5wua//xwKZ0qs5b9LMMv4eYnkv2qv5UfuWuO/0lONJ1Qh4r94os67Xt3gv3wCdCaOH9+/5E5bepdy3L/xlvW5YLXZv3p5SHR66da/5YDsm30Q1L9/FnKdCizRv4lFAuOQe8y/P3Z2VseOxr9Nx9QGG5XAvxP2IITrI7W/3PZX/Rojor9FMCdz9S+IPyEcanKhN64/UO53VAEpuz+Jf34QV5PDP4xdNc7+hsk/Mch0hRFszz8ApmCWmJ/SP26Cvv2EftU/Zrc8KCpR2D/M68tI6xXbPxg9s4Ezy90/YzbrZbs34D/HyHdsmYDhPy+JHfh3v+I/0O2L4qDz4z8gm5AjZBzlP2yvpTUYOeY/Xf7HdhpJ5z++6l2Fz0voPyHN+ZijQOk/vTPF1gon6j/awWShgf7qP5gMJ+SMxus/CoJTWbp+7D89MXHLoCbtP34pYFHgve0/4RsjhSJE7j9m8zm1GrnuPyoycRCGHO8/Lw0NzCtu7z8HeTpE3a3vPz2fsxZ22+8/foSIN9z27z8AAAAAAADwP36EiDfc9u8/Pp+zFnbb7z8HeTpE3a3vPzANDcwrbu8/KzJxEIYc7z9l8zm1GrnuP+IbI4UiRO4/gClgUeC97T8/MXHLoCbtPwyCU1m6fuw/mwwn5IzG6z/cwWShgf7qP7szxdYKJ+o/JM35mKNA6T/B6l2Fz0voP2D+x3YaSec/b6+lNRg55j8em5AjZBzlP9Pti+Kg8+M/LIkd+He/4j/LyHdsmYDhP2c262W7N+A/ID2zgTPL3T/U68tI6xXbP1+3PCgqUdg/doK+/YR+1T/5pWCWmJ/SP0LIdIURbM8/nl01zv6GyT+bf34QV5PDP3Tud1QBKbs/6BtqcqE3rj9fMSdz9S+IP5b2V/0aI6K/8PUghOsjtb88x9QGG5XAvy52dlbHjsa/d0UC45B7zL92FnKdCizRv86A7Jt9ENS/gHlIdHrp1r/plvW5YLXZv9xOW3qXcty/dAJ0Jo4f3798os67Xt3gv9VTjSdUIeK/Zq/lR+5a479IMMv4eYnkv/kcCmdKrOW/4dcAc7nC5r+gMIUPKMznv6KBv5z+x+i/obLHPq216b+3ptIvrJTqv3ckwQ18ZOu/+enjIqYk7L9vXMupvNTsvwIW/AtbdO2/uYBkGyYD7r+Sq3JGzIDuv/WYrMYF7e6/4miwyZRH77+x8oSURZDvv2yiJqHuxu+/Lbg/tnDr778JXf74tv3vvwld/vi2/e+/Lbg/tnDr779roiah7sbvv7LyhJRFkO+/42iwyZRH77/3mKzGBe3uv5SrckbMgO6/u4BkGyYD7r8FFvwLW3Ttv3Jcy6m81Oy//OnjIqYk7L9yJMENfGTrv7um0i+slOq/pbLHPq216b+mgb+c/sfov6UwhQ8ozOe/2tcAc7nC5r/+HApnSqzlv00wy/h5ieS/bK/lR+5a47/aU40nVCHiv3Sizrte3eC/gAJ0Jo4f37/oTlt6l3Lcv/WW9blgtdm/jXlIdHrp1r/agOybfRDUv4MWcp0KLNG/kUUC45B7zL9IdnZWx47GvzbH1AYblcC/5fUghOsjtb8A91f9GiOiv7gvJ3P1L4g/fhtqcqE3rj9/7ndUASm7P6B/fhBXk8M/hF01zv6GyT8oyHSFEWzPP+ylYJaYn9I/eYK+/YR+1T9htzwoKlHYP8jry0jrFds/FD2zgTPL3T9bNutluzfgP8zId2yZgOE/LYkd+He/4j/O7YvioPPjPxmbkCNkHOU/cK+lNRg55j9h/sd2GknnP7zqXYXPS+g/IM35mKNA6T+3M8XWCifqP93BZKGB/uo/mwwn5IzG6z8JglNZun7sPzwxccugJu0/eylgUeC97T/iGyOFIkTuP2bzObUaue4/KTJxEIYc7z8uDQ3MK27vPwV5OkTdre8/Pp+zFnbb7z9+hIg33PbvPwAAAAAAAPA/foSIN9z27z89n7MWdtvvPwd5OkTdre8/MA0NzCtu7z8rMnEQhhzvP2jzObUaue4/4BsjhSJE7j9+KWBR4L3tPz8xccugJu0/DYJTWbp+7D+gDCfkjMbrP9nBZKGB/uo/vDPF1gon6j8mzfmYo0DpP8LqXYXPS+g/Z/7HdhpJ5z9rr6U1GDnmPx+bkCNkHOU/1e2L4qDz4z80iR34d7/iP8bId2yZgOE/YjbrZbs34D8kPbOBM8vdP9jry0jrFds/crc8KCpR2D9sgr79hH7VP/2lYJaYn9I/Ssh0hRFszz+mXTXO/obJP8N/fhBXk8M/Re53VAEpuz8LHGpyoTeuP+0xJ3P1L4g/cvZX/Rojor+e9SCE6yO1v1LH1AYblcC/JXZ2VseOxr9vRQLjkHvMv3IWcp0KLNG/6IDsm30Q1L98eUh0eunWv+WW9blgtdm/2U5bepdy3L9wAnQmjh/fv3qizrte3eC/01ONJ1Qh4r9lr+VH7lrjv0Ywy/h5ieS/9xwKZ0qs5b/g1wBzucLmv58whQ8ozOe/oYG/nP7H6L+fssc+rbXpv7+m0i+slOq/diTBDXxk67/46eMipiTsv29cy6m81Oy/ARb8C1t07b+9gGQbJgPuv5GrckbMgO6/9ZisxgXt7r/haLDJlEfvv7HyhJRFkO+/bKImoe7G778tuD+2cOvvvwld/vi2/e+/CV3++Lb9778tuD+2cOvvv2uiJqHuxu+/s/KElEWQ77/jaLDJlEfvv/iYrMYF7e6/kKtyRsyA7r+8gGQbJgPuvwUW/AtbdO2/c1zLqbzU7L/96eMipiTsv3skwQ18ZOu/xabSL6yU6r+vssc+rbXpv56Bv5z+x+i/mzCFDyjM57/c1wBzucLmv/8cCmdKrOW/TjDL+HmJ5L9tr+VH7lrjv9xTjSdUIeK/g6LOu17d4L+gAnQmjh/fv9BOW3qXcty/3Jb1uWC12b9zeUh0eunWv96A7Jt9ENS/hxZynQos0b+aRQLjkHvMv1F2dlbHjsa/fsfUBhuVwL929iCE6yO1vyP4V/0aI6K/KzMnc/UviD9aHGpyoTeuP23ud1QBKbs/mH9+EFeTwz97XTXO/obJPx/IdIURbM8/6KVglpif0j9Xgr79hH7VP0C3PCgqUdg/4evLSOsV2z8sPbOBM8vdP2Y262W7N+A/ysh3bJmA4T8riR34d7/iP8zti+Kg8+M/F5uQI2Qc5T9jr6U1GDnmP1X+x3YaSec/sOpdhc9L6D8pzfmYo0DpP78zxdYKJ+o/3MFkoYH+6j+aDCfkjMbrPwiCU1m6fuw/OzFxy6Am7T96KWBR4L3tP90bI4UiRO4/YfM5tRq57j8sMnEQhhzvPzENDcwrbu8/B3k6RN2t7z8+n7MWdtvvP36EiDfc9u8/AAAAAAAA8D8=",
          "dtype": "f8"
         },
         "y": {
          "bdata": "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",
          "dtype": "f8"
         },
         "z": {
          "bdata": "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",
          "dtype": "f8"
         }
        }
       ],
       "layout": {
        "margin": {
         "b": 0,
         "l": 0,
         "r": 0,
         "t": 0
        },
        "scene": {
         "aspectmode": "cube",
         "camera": {
          "center": {
           "x": 0,
           "y": 0,
           "z": 0
          },
          "eye": {
           "x": 1.8,
           "y": 1.2,
           "z": 0.9
          },
          "projection": {
           "type": "perspective"
          },
          "up": {
           "x": 0,
           "y": 0,
           "z": 1
          }
         },
         "xaxis": {
          "title": {
           "text": "x"
          }
         },
         "yaxis": {
          "title": {
           "text": "y"
          }
         },
         "zaxis": {
          "title": {
           "text": "z"
          }
         }
        },
        "template": {
         "data": {
          "bar": [
           {
            "error_x": {
             "color": "#2a3f5f"
            },
            "error_y": {
             "color": "#2a3f5f"
            },
            "marker": {
             "line": {
              "color": "#E5ECF6",
              "width": 0.5
             },
             "pattern": {
              "fillmode": "overlay",
              "size": 10,
              "solidity": 0.2
             }
            },
            "type": "bar"
           }
          ],
          "barpolar": [
           {
            "marker": {
             "line": {
              "color": "#E5ECF6",
              "width": 0.5
             },
             "pattern": {
              "fillmode": "overlay",
              "size": 10,
              "solidity": 0.2
             }
            },
            "type": "barpolar"
           }
          ],
          "carpet": [
           {
            "aaxis": {
             "endlinecolor": "#2a3f5f",
             "gridcolor": "white",
             "linecolor": "white",
             "minorgridcolor": "white",
             "startlinecolor": "#2a3f5f"
            },
            "baxis": {
             "endlinecolor": "#2a3f5f",
             "gridcolor": "white",
             "linecolor": "white",
             "minorgridcolor": "white",
             "startlinecolor": "#2a3f5f"
            },
            "type": "carpet"
           }
          ],
          "choropleth": [
           {
            "colorbar": {
             "outlinewidth": 0,
             "ticks": ""
            },
            "type": "choropleth"
           }
          ],
          "contour": [
           {
            "colorbar": {
             "outlinewidth": 0,
             "ticks": ""
            },
            "colorscale": [
             [
              0,
              "#0d0887"
             ],
             [
              0.1111111111111111,
              "#46039f"
             ],
             [
              0.2222222222222222,
              "#7201a8"
             ],
             [
              0.3333333333333333,
              "#9c179e"
             ],
             [
              0.4444444444444444,
              "#bd3786"
             ],
             [
              0.5555555555555556,
              "#d8576b"
             ],
             [
              0.6666666666666666,
              "#ed7953"
             ],
             [
              0.7777777777777778,
              "#fb9f3a"
             ],
             [
              0.8888888888888888,
              "#fdca26"
             ],
             [
              1,
              "#f0f921"
             ]
            ],
            "type": "contour"
           }
          ],
          "contourcarpet": [
           {
            "colorbar": {
             "outlinewidth": 0,
             "ticks": ""
            },
            "type": "contourcarpet"
           }
          ],
          "heatmap": [
           {
            "colorbar": {
             "outlinewidth": 0,
             "ticks": ""
            },
            "colorscale": [
             [
              0,
              "#0d0887"
             ],
             [
              0.1111111111111111,
              "#46039f"
             ],
             [
              0.2222222222222222,
              "#7201a8"
             ],
             [
              0.3333333333333333,
              "#9c179e"
             ],
             [
              0.4444444444444444,
              "#bd3786"
             ],
             [
              0.5555555555555556,
              "#d8576b"
             ],
             [
              0.6666666666666666,
              "#ed7953"
             ],
             [
              0.7777777777777778,
              "#fb9f3a"
             ],
             [
              0.8888888888888888,
              "#fdca26"
             ],
             [
              1,
              "#f0f921"
             ]
            ],
            "type": "heatmap"
           }
          ],
          "histogram": [
           {
            "marker": {
             "pattern": {
              "fillmode": "overlay",
              "size": 10,
              "solidity": 0.2
             }
            },
            "type": "histogram"
           }
          ],
          "histogram2d": [
           {
            "colorbar": {
             "outlinewidth": 0,
             "ticks": ""
            },
            "colorscale": [
             [
              0,
              "#0d0887"
             ],
             [
              0.1111111111111111,
              "#46039f"
             ],
             [
              0.2222222222222222,
              "#7201a8"
             ],
             [
              0.3333333333333333,
              "#9c179e"
             ],
             [
              0.4444444444444444,
              "#bd3786"
             ],
             [
              0.5555555555555556,
              "#d8576b"
             ],
             [
              0.6666666666666666,
              "#ed7953"
             ],
             [
              0.7777777777777778,
              "#fb9f3a"
             ],
             [
              0.8888888888888888,
              "#fdca26"
             ],
             [
              1,
              "#f0f921"
             ]
            ],
            "type": "histogram2d"
           }
          ],
          "histogram2dcontour": [
           {
            "colorbar": {
             "outlinewidth": 0,
             "ticks": ""
            },
            "colorscale": [
             [
              0,
              "#0d0887"
             ],
             [
              0.1111111111111111,
              "#46039f"
             ],
             [
              0.2222222222222222,
              "#7201a8"
             ],
             [
              0.3333333333333333,
              "#9c179e"
             ],
             [
              0.4444444444444444,
              "#bd3786"
             ],
             [
              0.5555555555555556,
              "#d8576b"
             ],
             [
              0.6666666666666666,
              "#ed7953"
             ],
             [
              0.7777777777777778,
              "#fb9f3a"
             ],
             [
              0.8888888888888888,
              "#fdca26"
             ],
             [
              1,
              "#f0f921"
             ]
            ],
            "type": "histogram2dcontour"
           }
          ],
          "mesh3d": [
           {
            "colorbar": {
             "outlinewidth": 0,
             "ticks": ""
            },
            "type": "mesh3d"
           }
          ],
          "parcoords": [
           {
            "line": {
             "colorbar": {
              "outlinewidth": 0,
              "ticks": ""
             }
            },
            "type": "parcoords"
           }
          ],
          "pie": [
           {
            "automargin": true,
            "type": "pie"
           }
          ],
          "scatter": [
           {
            "fillpattern": {
             "fillmode": "overlay",
             "size": 10,
             "solidity": 0.2
            },
            "type": "scatter"
           }
          ],
          "scatter3d": [
           {
            "line": {
             "colorbar": {
              "outlinewidth": 0,
              "ticks": ""
             }
            },
            "marker": {
             "colorbar": {
              "outlinewidth": 0,
              "ticks": ""
             }
            },
            "type": "scatter3d"
           }
          ],
          "scattercarpet": [
           {
            "marker": {
             "colorbar": {
              "outlinewidth": 0,
              "ticks": ""
             }
            },
            "type": "scattercarpet"
           }
          ],
          "scattergeo": [
           {
            "marker": {
             "colorbar": {
              "outlinewidth": 0,
              "ticks": ""
             }
            },
            "type": "scattergeo"
           }
          ],
          "scattergl": [
           {
            "marker": {
             "colorbar": {
              "outlinewidth": 0,
              "ticks": ""
             }
            },
            "type": "scattergl"
           }
          ],
          "scattermap": [
           {
            "marker": {
             "colorbar": {
              "outlinewidth": 0,
              "ticks": ""
             }
            },
            "type": "scattermap"
           }
          ],
          "scattermapbox": [
           {
            "marker": {
             "colorbar": {
              "outlinewidth": 0,
              "ticks": ""
             }
            },
            "type": "scattermapbox"
           }
          ],
          "scatterpolar": [
           {
            "marker": {
             "colorbar": {
              "outlinewidth": 0,
              "ticks": ""
             }
            },
            "type": "scatterpolar"
           }
          ],
          "scatterpolargl": [
           {
            "marker": {
             "colorbar": {
              "outlinewidth": 0,
              "ticks": ""
             }
            },
            "type": "scatterpolargl"
           }
          ],
          "scatterternary": [
           {
            "marker": {
             "colorbar": {
              "outlinewidth": 0,
              "ticks": ""
             }
            },
            "type": "scatterternary"
           }
          ],
          "surface": [
           {
            "colorbar": {
             "outlinewidth": 0,
             "ticks": ""
            },
            "colorscale": [
             [
              0,
              "#0d0887"
             ],
             [
              0.1111111111111111,
              "#46039f"
             ],
             [
              0.2222222222222222,
              "#7201a8"
             ],
             [
              0.3333333333333333,
              "#9c179e"
             ],
             [
              0.4444444444444444,
              "#bd3786"
             ],
             [
              0.5555555555555556,
              "#d8576b"
             ],
             [
              0.6666666666666666,
              "#ed7953"
             ],
             [
              0.7777777777777778,
              "#fb9f3a"
             ],
             [
              0.8888888888888888,
              "#fdca26"
             ],
             [
              1,
              "#f0f921"
             ]
            ],
            "type": "surface"
           }
          ],
          "table": [
           {
            "cells": {
             "fill": {
              "color": "#EBF0F8"
             },
             "line": {
              "color": "white"
             }
            },
            "header": {
             "fill": {
              "color": "#C8D4E3"
             },
             "line": {
              "color": "white"
             }
            },
            "type": "table"
           }
          ]
         },
         "layout": {
          "annotationdefaults": {
           "arrowcolor": "#2a3f5f",
           "arrowhead": 0,
           "arrowwidth": 1
          },
          "autotypenumbers": "strict",
          "coloraxis": {
           "colorbar": {
            "outlinewidth": 0,
            "ticks": ""
           }
          },
          "colorscale": {
           "diverging": [
            [
             0,
             "#8e0152"
            ],
            [
             0.1,
             "#c51b7d"
            ],
            [
             0.2,
             "#de77ae"
            ],
            [
             0.3,
             "#f1b6da"
            ],
            [
             0.4,
             "#fde0ef"
            ],
            [
             0.5,
             "#f7f7f7"
            ],
            [
             0.6,
             "#e6f5d0"
            ],
            [
             0.7,
             "#b8e186"
            ],
            [
             0.8,
             "#7fbc41"
            ],
            [
             0.9,
             "#4d9221"
            ],
            [
             1,
             "#276419"
            ]
           ],
           "sequential": [
            [
             0,
             "#0d0887"
            ],
            [
             0.1111111111111111,
             "#46039f"
            ],
            [
             0.2222222222222222,
             "#7201a8"
            ],
            [
             0.3333333333333333,
             "#9c179e"
            ],
            [
             0.4444444444444444,
             "#bd3786"
            ],
            [
             0.5555555555555556,
             "#d8576b"
            ],
            [
             0.6666666666666666,
             "#ed7953"
            ],
            [
             0.7777777777777778,
             "#fb9f3a"
            ],
            [
             0.8888888888888888,
             "#fdca26"
            ],
            [
             1,
             "#f0f921"
            ]
           ],
           "sequentialminus": [
            [
             0,
             "#0d0887"
            ],
            [
             0.1111111111111111,
             "#46039f"
            ],
            [
             0.2222222222222222,
             "#7201a8"
            ],
            [
             0.3333333333333333,
             "#9c179e"
            ],
            [
             0.4444444444444444,
             "#bd3786"
            ],
            [
             0.5555555555555556,
             "#d8576b"
            ],
            [
             0.6666666666666666,
             "#ed7953"
            ],
            [
             0.7777777777777778,
             "#fb9f3a"
            ],
            [
             0.8888888888888888,
             "#fdca26"
            ],
            [
             1,
             "#f0f921"
            ]
           ]
          },
          "colorway": [
           "#636efa",
           "#EF553B",
           "#00cc96",
           "#ab63fa",
           "#FFA15A",
           "#19d3f3",
           "#FF6692",
           "#B6E880",
           "#FF97FF",
           "#FECB52"
          ],
          "font": {
           "color": "#2a3f5f"
          },
          "geo": {
           "bgcolor": "white",
           "lakecolor": "white",
           "landcolor": "#E5ECF6",
           "showlakes": true,
           "showland": true,
           "subunitcolor": "white"
          },
          "hoverlabel": {
           "align": "left"
          },
          "hovermode": "closest",
          "mapbox": {
           "style": "light"
          },
          "paper_bgcolor": "white",
          "plot_bgcolor": "#E5ECF6",
          "polar": {
           "angularaxis": {
            "gridcolor": "white",
            "linecolor": "white",
            "ticks": ""
           },
           "bgcolor": "#E5ECF6",
           "radialaxis": {
            "gridcolor": "white",
            "linecolor": "white",
            "ticks": ""
           }
          },
          "scene": {
           "xaxis": {
            "backgroundcolor": "#E5ECF6",
            "gridcolor": "white",
            "gridwidth": 2,
            "linecolor": "white",
            "showbackground": true,
            "ticks": "",
            "zerolinecolor": "white"
           },
           "yaxis": {
            "backgroundcolor": "#E5ECF6",
            "gridcolor": "white",
            "gridwidth": 2,
            "linecolor": "white",
            "showbackground": true,
            "ticks": "",
            "zerolinecolor": "white"
           },
           "zaxis": {
            "backgroundcolor": "#E5ECF6",
            "gridcolor": "white",
            "gridwidth": 2,
            "linecolor": "white",
            "showbackground": true,
            "ticks": "",
            "zerolinecolor": "white"
           }
          },
          "shapedefaults": {
           "line": {
            "color": "#2a3f5f"
           }
          },
          "ternary": {
           "aaxis": {
            "gridcolor": "white",
            "linecolor": "white",
            "ticks": ""
           },
           "baxis": {
            "gridcolor": "white",
            "linecolor": "white",
            "ticks": ""
           },
           "bgcolor": "#E5ECF6",
           "caxis": {
            "gridcolor": "white",
            "linecolor": "white",
            "ticks": ""
           }
          },
          "title": {
           "x": 0.05
          },
          "xaxis": {
           "automargin": true,
           "gridcolor": "white",
           "linecolor": "white",
           "ticks": "",
           "title": {
            "standoff": 15
           },
           "zerolinecolor": "white",
           "zerolinewidth": 2
          },
          "yaxis": {
           "automargin": true,
           "gridcolor": "white",
           "linecolor": "white",
           "ticks": "",
           "title": {
            "standoff": 15
           },
           "zerolinecolor": "white",
           "zerolinewidth": 2
          }
         }
        },
        "title": {
         "text": "First 3D curve"
        }
       }
      }
     },
     "metadata": {},
     "output_type": "display_data"
    }
   ],
   "source": [
    "fig = Figure(trace3d)\n",
    "fig.update_layout(\n",
    "    title=\"First 3D curve\",\n",
    "    scene=dict(             #3D axes live inside scene (not xaxis/yaxis).\n",
    "        xaxis_title=\"x\",\n",
    "        yaxis_title=\"y\",\n",
    "        zaxis_title=\"z\",\n",
    "        aspectmode=\"cube\",  # keep scales equal\n",
    "    ),\n",
    "    margin=dict(l=0, r=0, t=0, b=0),       # This controls the padding of the figure\n",
    ")\n",
    "\n",
    "# This controls the camera controls\n",
    "\n",
    "fig.update_layout(scene_camera=dict(\n",
    "    eye=dict(x=1.8, y=1.2, z=0.9),          # Where the camera sits\n",
    "    center=dict(x=0.0, y=0.0, z=0.0),       # Where does it look at\n",
    "    up=dict(x=0, y=0, z=1),                 # Which way is up\n",
    "    projection=dict(type=\"perspective\")     # projection: prespective, orthographic\n",
    "))\n",
    "\n",
    "\n",
    "fig.show()"
   ]
  },
  {
   "cell_type": "code",
   "execution_count": null,
   "id": "fff1cc83",
   "metadata": {},
   "outputs": [],
   "source": []
  }
 ],
 "metadata": {
  "kernelspec": {
   "display_name": "Python 3",
   "language": "python",
   "name": "python3"
  },
  "language_info": {
   "codemirror_mode": {
    "name": "ipython",
    "version": 3
   },
   "file_extension": ".py",
   "mimetype": "text/x-python",
   "name": "python",
   "nbconvert_exporter": "python",
   "pygments_lexer": "ipython3",
   "version": "3.13.7"
  }
 },
 "nbformat": 4,
 "nbformat_minor": 5
}
