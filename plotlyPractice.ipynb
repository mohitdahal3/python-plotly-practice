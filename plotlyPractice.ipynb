{
 "cells": [
  {
   "cell_type": "markdown",
   "id": "80faeb00",
   "metadata": {},
   "source": [
    "## 2D graphs and showing with plotly"
   ]
  },
  {
   "cell_type": "markdown",
   "id": "ccf4659f",
   "metadata": {},
   "source": [
    "## Imports"
   ]
  },
  {
   "cell_type": "code",
   "execution_count": 1,
   "id": "c47eb086",
   "metadata": {},
   "outputs": [],
   "source": [
    "import numpy as np\n",
    "import pandas as pd\n",
    "from plotly.graph_objects import Figure, Scatter  # small, focused import\n",
    "import plotly.io as pio\n",
    "\n",
    "pio.renderers.default = \"notebook_connected\""
   ]
  },
  {
   "cell_type": "markdown",
   "id": "8c153ec9",
   "metadata": {},
   "source": [
    "# Import tests"
   ]
  },
  {
   "cell_type": "code",
   "execution_count": 2,
   "id": "1be793bb",
   "metadata": {},
   "outputs": [
    {
     "name": "stdout",
     "output_type": "stream",
     "text": [
      "Ready. Renderer: notebook_connected\n"
     ]
    }
   ],
   "source": [
    "print(\"Ready. Renderer:\", pio.renderers.default)"
   ]
  },
  {
   "cell_type": "markdown",
   "id": "0aa5ea9b",
   "metadata": {},
   "source": [
    "## Code"
   ]
  },
  {
   "cell_type": "code",
   "execution_count": 3,
   "id": "a20af333",
   "metadata": {},
   "outputs": [],
   "source": [
    "x = np.linspace(-3, 3, 101) #linearly spaced numbers from [-3,3] with 101 numbers including both\n",
    "\n",
    "y = x**2\n",
    "# x**2 means \"square each element\" (NumPy does this element-wise)\n"
   ]
  },
  {
   "cell_type": "code",
   "execution_count": null,
   "id": "9f14d29d",
   "metadata": {},
   "outputs": [],
   "source": [
    "# 3) create a 'trace' (a visual layer). Scatter = line/markers in 2D/3D\n",
    "trace = Scatter(x=x, y=y, mode=\"lines+markers\", name=\"y = x^2\")\n",
    "# mode=\"lines\" draws a continuous line.\n",
    "# (Other options you’ll use later: \"markers\", \"lines+markers\")"
   ]
  },
  {
   "cell_type": "code",
   "execution_count": 5,
   "id": "33711bc1",
   "metadata": {},
   "outputs": [],
   "source": [
    "# 4) wrap the trace in a Figure\n",
    "fig = Figure(data=trace)"
   ]
  },
  {
   "cell_type": "code",
   "execution_count": 6,
   "id": "3a907a19",
   "metadata": {},
   "outputs": [
    {
     "data": {
      "text/html": [
       "        <script type=\"text/javascript\">\n",
       "        window.PlotlyConfig = {MathJaxConfig: 'local'};\n",
       "        if (window.MathJax && window.MathJax.Hub && window.MathJax.Hub.Config) {window.MathJax.Hub.Config({SVG: {font: \"STIX-Web\"}});}\n",
       "        </script>\n",
       "        <script type=\"module\">import \"https://cdn.plot.ly/plotly-3.1.0.min\"</script>\n",
       "        "
      ]
     },
     "metadata": {},
     "output_type": "display_data"
    },
    {
     "data": {
      "text/html": [
       "<div>            <script src=\"https://cdnjs.cloudflare.com/ajax/libs/mathjax/2.7.5/MathJax.js?config=TeX-AMS-MML_SVG\"></script><script type=\"text/javascript\">if (window.MathJax && window.MathJax.Hub && window.MathJax.Hub.Config) {window.MathJax.Hub.Config({SVG: {font: \"STIX-Web\"}});}</script>                <script type=\"text/javascript\">window.PlotlyConfig = {MathJaxConfig: 'local'};</script>\n",
       "        <script charset=\"utf-8\" src=\"https://cdn.plot.ly/plotly-3.1.0.min.js\" integrity=\"sha256-Ei4740bWZhaUTQuD6q9yQlgVCMPBz6CZWhevDYPv93A=\" crossorigin=\"anonymous\"></script>                <div id=\"09c1d29e-9a4e-4e2d-8c5c-fae10583810e\" class=\"plotly-graph-div\" style=\"height:525px; width:100%;\"></div>            <script type=\"text/javascript\">                window.PLOTLYENV=window.PLOTLYENV || {};                                if (document.getElementById(\"09c1d29e-9a4e-4e2d-8c5c-fae10583810e\")) {                    Plotly.newPlot(                        \"09c1d29e-9a4e-4e2d-8c5c-fae10583810e\",                        [{\"mode\":\"lines+markers\",\"name\":\"y = x^2\",\"x\":{\"dtype\":\"f8\",\"bdata\":\"AAAAAAAACMCF61G4HoUHwArXo3A9CgfAj8L1KFyPBsAUrkfhehQGwJqZmZmZmQXAH4XrUbgeBcCkcD0K16MEwClcj8L1KATArkfhehSuA8AzMzMzMzMDwLgehetRuALAPgrXo3A9AsDC9Shcj8IBwEjhehSuRwHAzczMzMzMAMBSuB6F61EAwK5H4XoUrv+\\u002fuB6F61G4\\u002fr\\u002fD9Shcj8L9v83MzMzMzPy\\u002f16NwPQrX+7\\u002fiehSuR+H6v+xRuB6F6\\u002fm\\u002f9ihcj8L1+L8AAAAAAAD4vwrXo3A9Cve\\u002fFa5H4XoU9r8fhetRuB71vylcj8L1KPS\\u002fNDMzMzMz878+CtejcD3yv0jhehSuR\\u002fG\\u002fUrgehetR8L+4HoXrUbjuv8zMzMzMzOy\\u002f4HoUrkfh6r\\u002f4KFyPwvXovwzXo3A9Cue\\u002fIIXrUbge5b80MzMzMzPjv0jhehSuR+G\\u002fuB6F61G43r\\u002fgehSuR+HavxDXo3A9Cte\\u002fODMzMzMz07\\u002fAHoXrUbjOvxDXo3A9Cse\\u002fwB6F61G4vr\\u002fAHoXrUbiuvwAAAAAAAAAAwB6F61G4rj\\u002fAHoXrUbi+PwDXo3A9Csc\\u002fsB6F61G4zj8wMzMzMzPTPwjXo3A9Ctc\\u002f4HoUrkfh2j+4HoXrUbjeP0jhehSuR+E\\u002fMDMzMzMz4z8chetRuB7lPwjXo3A9Cuc\\u002f9Chcj8L16D\\u002fgehSuR+HqP8zMzMzMzOw\\u002fuB6F61G47j9QuB6F61HwP0jhehSuR\\u002fE\\u002fPArXo3A98j80MzMzMzPzPyhcj8L1KPQ\\u002fIIXrUbge9T8UrkfhehT2PwjXo3A9Cvc\\u002fAAAAAAAA+D\\u002f0KFyPwvX4P+xRuB6F6\\u002fk\\u002f4HoUrkfh+j\\u002fYo3A9Ctf7P8zMzMzMzPw\\u002fwPUoXI\\u002fC\\u002fT+4HoXrUbj+P6xH4XoUrv8\\u002fUrgehetRAEDMzMzMzMwAQEjhehSuRwFAwvUoXI\\u002fCAUA8CtejcD0CQLgehetRuAJAMjMzMzMzA0CuR+F6FK4DQChcj8L1KARApHA9CtejBEAehetRuB4FQJqZmZmZmQVAFK5H4XoUBkCOwvUoXI8GQArXo3A9CgdAhOtRuB6FB0AAAAAAAAAIQA==\"},\"y\":{\"dtype\":\"f8\",\"bdata\":\"AAAAAAAAIkBEaW\\u002fwhUkhQILix5i7liBActcS8kHPH0DTCWgibHgeQCpcj8L1KB1Acc6I0t7gG0CrYFRSJ6AaQNgS8kHPZhlA9+RhodY0GEAK16NwPQoXQA\\u002fpt68D5xVAChueXinLFEDzbFZ9rrYTQNPe4AuTqRJApHA9CtejEUBoImx4eqUQQD7o2az6XA9Akst\\u002fSL99DUDN7snDQq0LQOxRuB6F6wlA8fRKWYY4CEDd14FzRpQGQK76XG3F\\u002fgRAZF3cRgN4A0AAAAAAAAACQILix5i7lgBA1gloImx4\\u002fj9xzojS3uD7P9gS8kHPZvk\\u002fDNejcD0K9z8KG55eKcv0P9Pe4AuTqfI\\u002faCJseHql8D+Sy39Iv33tP+pRuB6F6+k\\u002f2teBc0aU5j9nXdxGA3jjP4Xix5i7luA\\u002fdM6I0t7g2z8M16NwPQrXP9Pe4AuTqdI\\u002fkst\\u002fSL99zT\\u002fa14FzRpTGP4vix5i7lsA\\u002fFtejcD0Ktz+hy39Iv32tP4vix5i7lqA\\u002foct\\u002fSL99jT+hy39Iv31tPwAAAAAAAAAAoct\\u002fSL99bT+hy39Iv32NP3Tix5i7lqA\\u002fgst\\u002fSL99rT8D16NwPQq3P3\\u002fix5i7lsA\\u002f2teBc0aUxj+Sy39Iv33NP9Pe4AuTqdI\\u002fA9ejcD0K1z9pzojS3uDbP3\\u002fix5i7luA\\u002fYV3cRgN44z\\u002fa14FzRpTmP+pRuB6F6+k\\u002fkst\\u002fSL997T9kImx4eqXwP9Pe4AuTqfI\\u002fBRueXinL9D8M16NwPQr3P9US8kHPZvk\\u002fdM6I0t7g+z\\u002fTCWgibHj+P3\\u002fix5i7lgBAAAAAAAAAAkBhXdxGA3gDQK76XG3F\\u002fgRA2teBc0aUBkDz9EpZhjgIQOpRuB6F6wlAx+7Jw0KtC0CSy39Iv30NQDro2az6XA9AaCJseHqlEECicD0K16MRQNPe4AuTqRJA82xWfa62E0AFG55eKcsUQA\\u002fpt68D5xVAB9ejcD0KF0D35GGh1jQYQNUS8kHPZhlAq2BUUiegGkBuzojS3uAbQCpcj8L1KB1A0wloImx4HkBv1xLyQc8fQILix5i7liBAQ2lv8IVJIUAAAAAAAAAiQA==\"},\"type\":\"scatter\"}],                        {\"template\":{\"data\":{\"histogram2dcontour\":[{\"type\":\"histogram2dcontour\",\"colorbar\":{\"outlinewidth\":0,\"ticks\":\"\"},\"colorscale\":[[0.0,\"#0d0887\"],[0.1111111111111111,\"#46039f\"],[0.2222222222222222,\"#7201a8\"],[0.3333333333333333,\"#9c179e\"],[0.4444444444444444,\"#bd3786\"],[0.5555555555555556,\"#d8576b\"],[0.6666666666666666,\"#ed7953\"],[0.7777777777777778,\"#fb9f3a\"],[0.8888888888888888,\"#fdca26\"],[1.0,\"#f0f921\"]]}],\"choropleth\":[{\"type\":\"choropleth\",\"colorbar\":{\"outlinewidth\":0,\"ticks\":\"\"}}],\"histogram2d\":[{\"type\":\"histogram2d\",\"colorbar\":{\"outlinewidth\":0,\"ticks\":\"\"},\"colorscale\":[[0.0,\"#0d0887\"],[0.1111111111111111,\"#46039f\"],[0.2222222222222222,\"#7201a8\"],[0.3333333333333333,\"#9c179e\"],[0.4444444444444444,\"#bd3786\"],[0.5555555555555556,\"#d8576b\"],[0.6666666666666666,\"#ed7953\"],[0.7777777777777778,\"#fb9f3a\"],[0.8888888888888888,\"#fdca26\"],[1.0,\"#f0f921\"]]}],\"heatmap\":[{\"type\":\"heatmap\",\"colorbar\":{\"outlinewidth\":0,\"ticks\":\"\"},\"colorscale\":[[0.0,\"#0d0887\"],[0.1111111111111111,\"#46039f\"],[0.2222222222222222,\"#7201a8\"],[0.3333333333333333,\"#9c179e\"],[0.4444444444444444,\"#bd3786\"],[0.5555555555555556,\"#d8576b\"],[0.6666666666666666,\"#ed7953\"],[0.7777777777777778,\"#fb9f3a\"],[0.8888888888888888,\"#fdca26\"],[1.0,\"#f0f921\"]]}],\"contourcarpet\":[{\"type\":\"contourcarpet\",\"colorbar\":{\"outlinewidth\":0,\"ticks\":\"\"}}],\"contour\":[{\"type\":\"contour\",\"colorbar\":{\"outlinewidth\":0,\"ticks\":\"\"},\"colorscale\":[[0.0,\"#0d0887\"],[0.1111111111111111,\"#46039f\"],[0.2222222222222222,\"#7201a8\"],[0.3333333333333333,\"#9c179e\"],[0.4444444444444444,\"#bd3786\"],[0.5555555555555556,\"#d8576b\"],[0.6666666666666666,\"#ed7953\"],[0.7777777777777778,\"#fb9f3a\"],[0.8888888888888888,\"#fdca26\"],[1.0,\"#f0f921\"]]}],\"surface\":[{\"type\":\"surface\",\"colorbar\":{\"outlinewidth\":0,\"ticks\":\"\"},\"colorscale\":[[0.0,\"#0d0887\"],[0.1111111111111111,\"#46039f\"],[0.2222222222222222,\"#7201a8\"],[0.3333333333333333,\"#9c179e\"],[0.4444444444444444,\"#bd3786\"],[0.5555555555555556,\"#d8576b\"],[0.6666666666666666,\"#ed7953\"],[0.7777777777777778,\"#fb9f3a\"],[0.8888888888888888,\"#fdca26\"],[1.0,\"#f0f921\"]]}],\"mesh3d\":[{\"type\":\"mesh3d\",\"colorbar\":{\"outlinewidth\":0,\"ticks\":\"\"}}],\"scatter\":[{\"fillpattern\":{\"fillmode\":\"overlay\",\"size\":10,\"solidity\":0.2},\"type\":\"scatter\"}],\"parcoords\":[{\"type\":\"parcoords\",\"line\":{\"colorbar\":{\"outlinewidth\":0,\"ticks\":\"\"}}}],\"scatterpolargl\":[{\"type\":\"scatterpolargl\",\"marker\":{\"colorbar\":{\"outlinewidth\":0,\"ticks\":\"\"}}}],\"bar\":[{\"error_x\":{\"color\":\"#2a3f5f\"},\"error_y\":{\"color\":\"#2a3f5f\"},\"marker\":{\"line\":{\"color\":\"#E5ECF6\",\"width\":0.5},\"pattern\":{\"fillmode\":\"overlay\",\"size\":10,\"solidity\":0.2}},\"type\":\"bar\"}],\"scattergeo\":[{\"type\":\"scattergeo\",\"marker\":{\"colorbar\":{\"outlinewidth\":0,\"ticks\":\"\"}}}],\"scatterpolar\":[{\"type\":\"scatterpolar\",\"marker\":{\"colorbar\":{\"outlinewidth\":0,\"ticks\":\"\"}}}],\"histogram\":[{\"marker\":{\"pattern\":{\"fillmode\":\"overlay\",\"size\":10,\"solidity\":0.2}},\"type\":\"histogram\"}],\"scattergl\":[{\"type\":\"scattergl\",\"marker\":{\"colorbar\":{\"outlinewidth\":0,\"ticks\":\"\"}}}],\"scatter3d\":[{\"type\":\"scatter3d\",\"line\":{\"colorbar\":{\"outlinewidth\":0,\"ticks\":\"\"}},\"marker\":{\"colorbar\":{\"outlinewidth\":0,\"ticks\":\"\"}}}],\"scattermap\":[{\"type\":\"scattermap\",\"marker\":{\"colorbar\":{\"outlinewidth\":0,\"ticks\":\"\"}}}],\"scattermapbox\":[{\"type\":\"scattermapbox\",\"marker\":{\"colorbar\":{\"outlinewidth\":0,\"ticks\":\"\"}}}],\"scatterternary\":[{\"type\":\"scatterternary\",\"marker\":{\"colorbar\":{\"outlinewidth\":0,\"ticks\":\"\"}}}],\"scattercarpet\":[{\"type\":\"scattercarpet\",\"marker\":{\"colorbar\":{\"outlinewidth\":0,\"ticks\":\"\"}}}],\"carpet\":[{\"aaxis\":{\"endlinecolor\":\"#2a3f5f\",\"gridcolor\":\"white\",\"linecolor\":\"white\",\"minorgridcolor\":\"white\",\"startlinecolor\":\"#2a3f5f\"},\"baxis\":{\"endlinecolor\":\"#2a3f5f\",\"gridcolor\":\"white\",\"linecolor\":\"white\",\"minorgridcolor\":\"white\",\"startlinecolor\":\"#2a3f5f\"},\"type\":\"carpet\"}],\"table\":[{\"cells\":{\"fill\":{\"color\":\"#EBF0F8\"},\"line\":{\"color\":\"white\"}},\"header\":{\"fill\":{\"color\":\"#C8D4E3\"},\"line\":{\"color\":\"white\"}},\"type\":\"table\"}],\"barpolar\":[{\"marker\":{\"line\":{\"color\":\"#E5ECF6\",\"width\":0.5},\"pattern\":{\"fillmode\":\"overlay\",\"size\":10,\"solidity\":0.2}},\"type\":\"barpolar\"}],\"pie\":[{\"automargin\":true,\"type\":\"pie\"}]},\"layout\":{\"autotypenumbers\":\"strict\",\"colorway\":[\"#636efa\",\"#EF553B\",\"#00cc96\",\"#ab63fa\",\"#FFA15A\",\"#19d3f3\",\"#FF6692\",\"#B6E880\",\"#FF97FF\",\"#FECB52\"],\"font\":{\"color\":\"#2a3f5f\"},\"hovermode\":\"closest\",\"hoverlabel\":{\"align\":\"left\"},\"paper_bgcolor\":\"white\",\"plot_bgcolor\":\"#E5ECF6\",\"polar\":{\"bgcolor\":\"#E5ECF6\",\"angularaxis\":{\"gridcolor\":\"white\",\"linecolor\":\"white\",\"ticks\":\"\"},\"radialaxis\":{\"gridcolor\":\"white\",\"linecolor\":\"white\",\"ticks\":\"\"}},\"ternary\":{\"bgcolor\":\"#E5ECF6\",\"aaxis\":{\"gridcolor\":\"white\",\"linecolor\":\"white\",\"ticks\":\"\"},\"baxis\":{\"gridcolor\":\"white\",\"linecolor\":\"white\",\"ticks\":\"\"},\"caxis\":{\"gridcolor\":\"white\",\"linecolor\":\"white\",\"ticks\":\"\"}},\"coloraxis\":{\"colorbar\":{\"outlinewidth\":0,\"ticks\":\"\"}},\"colorscale\":{\"sequential\":[[0.0,\"#0d0887\"],[0.1111111111111111,\"#46039f\"],[0.2222222222222222,\"#7201a8\"],[0.3333333333333333,\"#9c179e\"],[0.4444444444444444,\"#bd3786\"],[0.5555555555555556,\"#d8576b\"],[0.6666666666666666,\"#ed7953\"],[0.7777777777777778,\"#fb9f3a\"],[0.8888888888888888,\"#fdca26\"],[1.0,\"#f0f921\"]],\"sequentialminus\":[[0.0,\"#0d0887\"],[0.1111111111111111,\"#46039f\"],[0.2222222222222222,\"#7201a8\"],[0.3333333333333333,\"#9c179e\"],[0.4444444444444444,\"#bd3786\"],[0.5555555555555556,\"#d8576b\"],[0.6666666666666666,\"#ed7953\"],[0.7777777777777778,\"#fb9f3a\"],[0.8888888888888888,\"#fdca26\"],[1.0,\"#f0f921\"]],\"diverging\":[[0,\"#8e0152\"],[0.1,\"#c51b7d\"],[0.2,\"#de77ae\"],[0.3,\"#f1b6da\"],[0.4,\"#fde0ef\"],[0.5,\"#f7f7f7\"],[0.6,\"#e6f5d0\"],[0.7,\"#b8e186\"],[0.8,\"#7fbc41\"],[0.9,\"#4d9221\"],[1,\"#276419\"]]},\"xaxis\":{\"gridcolor\":\"white\",\"linecolor\":\"white\",\"ticks\":\"\",\"title\":{\"standoff\":15},\"zerolinecolor\":\"white\",\"automargin\":true,\"zerolinewidth\":2},\"yaxis\":{\"gridcolor\":\"white\",\"linecolor\":\"white\",\"ticks\":\"\",\"title\":{\"standoff\":15},\"zerolinecolor\":\"white\",\"automargin\":true,\"zerolinewidth\":2},\"scene\":{\"xaxis\":{\"backgroundcolor\":\"#E5ECF6\",\"gridcolor\":\"white\",\"linecolor\":\"white\",\"showbackground\":true,\"ticks\":\"\",\"zerolinecolor\":\"white\",\"gridwidth\":2},\"yaxis\":{\"backgroundcolor\":\"#E5ECF6\",\"gridcolor\":\"white\",\"linecolor\":\"white\",\"showbackground\":true,\"ticks\":\"\",\"zerolinecolor\":\"white\",\"gridwidth\":2},\"zaxis\":{\"backgroundcolor\":\"#E5ECF6\",\"gridcolor\":\"white\",\"linecolor\":\"white\",\"showbackground\":true,\"ticks\":\"\",\"zerolinecolor\":\"white\",\"gridwidth\":2}},\"shapedefaults\":{\"line\":{\"color\":\"#2a3f5f\"}},\"annotationdefaults\":{\"arrowcolor\":\"#2a3f5f\",\"arrowhead\":0,\"arrowwidth\":1},\"geo\":{\"bgcolor\":\"white\",\"landcolor\":\"#E5ECF6\",\"subunitcolor\":\"white\",\"showland\":true,\"showlakes\":true,\"lakecolor\":\"white\"},\"title\":{\"x\":0.05},\"mapbox\":{\"style\":\"light\"}}},\"title\":{\"text\":\"First Plotly Figure (parabola)\"},\"xaxis\":{\"title\":{\"text\":\"x\"}},\"yaxis\":{\"title\":{\"text\":\"y\"}}},                        {\"responsive\": true}                    ).then(function(){\n",
       "                            \n",
       "var gd = document.getElementById('09c1d29e-9a4e-4e2d-8c5c-fae10583810e');\n",
       "var x = new MutationObserver(function (mutations, observer) {{\n",
       "        var display = window.getComputedStyle(gd).display;\n",
       "        if (!display || display === 'none') {{\n",
       "            console.log([gd, 'removed!']);\n",
       "            Plotly.purge(gd);\n",
       "            observer.disconnect();\n",
       "        }}\n",
       "}});\n",
       "\n",
       "// Listen for the removal of the full notebook cells\n",
       "var notebookContainer = gd.closest('#notebook-container');\n",
       "if (notebookContainer) {{\n",
       "    x.observe(notebookContainer, {childList: true});\n",
       "}}\n",
       "\n",
       "// Listen for the clearing of the current output cell\n",
       "var outputEl = gd.closest('.output');\n",
       "if (outputEl) {{\n",
       "    x.observe(outputEl, {childList: true});\n",
       "}}\n",
       "\n",
       "                        })                };            </script>        </div>"
      ]
     },
     "metadata": {},
     "output_type": "display_data"
    }
   ],
   "source": [
    "# 5) tidy up labels & title\n",
    "fig.update_layout(\n",
    "    title=\"First Plotly Figure (parabola)\",\n",
    "    xaxis_title=\"x\",\n",
    "    yaxis_title=\"y\",\n",
    ")\n",
    "\n",
    "# 6) render inside Jupyter (uses the renderer you set earlier)\n",
    "fig.show()"
   ]
  }
 ],
 "metadata": {
  "kernelspec": {
   "display_name": "Python 3",
   "language": "python",
   "name": "python3"
  },
  "language_info": {
   "codemirror_mode": {
    "name": "ipython",
    "version": 3
   },
   "file_extension": ".py",
   "mimetype": "text/x-python",
   "name": "python",
   "nbconvert_exporter": "python",
   "pygments_lexer": "ipython3",
   "version": "3.13.7"
  }
 },
 "nbformat": 4,
 "nbformat_minor": 5
}
